{
 "cells": [
  {
   "cell_type": "markdown",
   "id": "36c91ae8",
   "metadata": {},
   "source": [
    "# Imports"
   ]
  },
  {
   "cell_type": "code",
   "execution_count": 28,
   "id": "bfbd87b6",
   "metadata": {},
   "outputs": [],
   "source": [
    "import torch\n",
    "import random\n",
    "import os\n",
    "import requests, zipfile, tarfile\n",
    "\n",
    "import numpy as np\n",
    "import matplotlib.pylab as plt\n",
    "from sklearn.decomposition import PCA\n",
    "\n",
    "import torch.nn as nn\n",
    "import torch.nn.functional as F\n",
    "from torch.utils.data import DataLoader\n",
    "\n",
    "import torchvision\n",
    "from torchvision import datasets, transforms\n",
    "\n",
    "from pytorch_pretrained_biggan import BigGAN\n",
    "from pytorch_pretrained_biggan import one_hot_from_names\n",
    "from pytorch_pretrained_biggan import truncated_noise_sample\n",
    "\n",
    "from tqdm.notebook import tqdm, trange\n",
    "\n",
    "import ipywidgets as widgets       # interactive display\n",
    "from ipywidgets import interact, IntSlider, FloatSlider, interact_manual, fixed\n",
    "from ipywidgets import FloatLogSlider, HBox, Layout, VBox, interactive, Label\n",
    "from ipywidgets import interactive_output, Dropdown"
   ]
  },
  {
   "cell_type": "markdown",
   "id": "cf196e90",
   "metadata": {},
   "source": [
    "# Helper functions"
   ]
  },
  {
   "cell_type": "code",
   "execution_count": 12,
   "id": "49f63b65",
   "metadata": {},
   "outputs": [],
   "source": [
    "def image_moments(image_batches, n_batches=None):\n",
    "    \"\"\"\n",
    "    Compute mean an covariance of all pixels from batches of images\n",
    "    \"\"\"\n",
    "    m1, m2 = torch.zeros((), device=DEVICE), torch.zeros((), device=DEVICE)\n",
    "    n = 0\n",
    "    for im in tqdm(image_batches, total=n_batches, leave=False,\n",
    "                 desc='Computing pixel mean and covariance...'):\n",
    "        im = im.to(DEVICE)\n",
    "        b = im.size()[0]\n",
    "        im = im.view(b, -1)\n",
    "        m1 = m1 + im.sum(dim=0)\n",
    "        m2 = m2 + (im.view(b,-1,1) * im.view(b,1,-1)).sum(dim=0)\n",
    "        n += b\n",
    "    m1, m2 = m1/n, m2/n\n",
    "    cov = m2 - m1.view(-1,1)*m1.view(1,-1)\n",
    "    return m1.cpu(), cov.cpu()\n",
    "\n",
    "\n",
    "def interpolate(A, B, num_interps):\n",
    "    if A.shape != B.shape:\n",
    "        raise ValueError('A and B must have the same shape to interpolate.')\n",
    "    alphas = np.linspace(0, 1, num_interps)\n",
    "    return np.array([(1-a)*A + a*B for a in alphas])\n",
    "\n",
    "\n",
    "def kl_q_p(zs, phi):\n",
    "    \"\"\"Given [b,n,k] samples of z drawn from q, compute estimate of KL(q||p).\n",
    "    phi must be size [b,k+1]\n",
    "\n",
    "    This uses mu_p = 0 and sigma_p = 1, which simplifies the log(p(zs)) term to\n",
    "    just -1/2*(zs**2)\n",
    "    \"\"\"\n",
    "    b, n, k = zs.size()\n",
    "    mu_q, log_sig_q = phi[:,:-1], phi[:,-1]\n",
    "    log_p = -0.5*(zs**2)\n",
    "    log_q = -0.5*(zs - mu_q.view(b,1,k))**2 / log_sig_q.exp().view(b,1,1)**2 - log_sig_q.view(b,1,-1)\n",
    "    # Size of log_q and log_p is [b,n,k]. Sum along [k] but mean along [b,n]\n",
    "    return (log_q - log_p).sum(dim=2).mean(dim=(0,1))\n",
    "\n",
    "\n",
    "def log_p_x(x, mu_xs, sig_x):\n",
    "    \"\"\"Given [batch, ...] input x and [batch, n, ...] reconstructions, compute\n",
    "    pixel-wise log Gaussian probability\n",
    "\n",
    "    Sum over pixel dimensions, but mean over batch and samples.\n",
    "    \"\"\"\n",
    "    b, n = mu_xs.size()[:2]\n",
    "    # Flatten out pixels and add a singleton dimension [1] so that x will be\n",
    "    # implicitly expanded when combined with mu_xs\n",
    "    x = x.reshape(b, 1, -1)\n",
    "    _, _, p = x.size()\n",
    "    squared_error = (x - mu_xs.view(b, n, -1))**2 / (2*sig_x**2)\n",
    "\n",
    "    # Size of squared_error is [b,n,p]. log prob is by definition sum over [p].\n",
    "    # Expected value requires mean over [n]. Handling different size batches\n",
    "    # requires mean over [b].\n",
    "    return -(squared_error + torch.log(sig_x)).sum(dim=2).mean(dim=(0,1))\n",
    "\n",
    "\n",
    "def pca_encoder_decoder(mu, cov, k):\n",
    "    \"\"\"\n",
    "    Compute encoder and decoder matrices for PCA dimensionality reduction\n",
    "    \"\"\"\n",
    "    mu = mu.view(1,-1)\n",
    "    u, s, v = torch.svd_lowrank(cov, q=k)\n",
    "    W_encode = v / torch.sqrt(s)\n",
    "    W_decode = u * torch.sqrt(s)\n",
    "\n",
    "    def pca_encode(x):\n",
    "        # Encoder: subtract mean image and project onto top K eigenvectors of\n",
    "        # the data covariance\n",
    "        return (x.view(-1,mu.numel()) - mu) @ W_encode\n",
    "\n",
    "    def pca_decode(h):\n",
    "        # Decoder: un-project then add back in the mean\n",
    "        return (h @ W_decode.T) + mu\n",
    "\n",
    "    return pca_encode, pca_decode\n",
    "\n",
    "\n",
    "def cout(x, layer):\n",
    "    \"\"\"Unnecessarily complicated but complete way to\n",
    "    calculate the output depth, height and width size for a Conv2D layer\n",
    "\n",
    "    Args:\n",
    "    x (tuple): input size (depth, height, width)\n",
    "    layer (nn.Conv2d): the Conv2D layer\n",
    "\n",
    "    returns:\n",
    "    (int): output shape as given in [Ref]\n",
    "\n",
    "    Ref:\n",
    "    https://pytorch.org/docs/stable/generated/torch.nn.Conv2d.html\n",
    "    \"\"\"\n",
    "    assert isinstance(layer, nn.Conv2d)\n",
    "    p = layer.padding if isinstance(layer.padding, tuple) else (layer.padding,)\n",
    "    k = layer.kernel_size if isinstance(layer.kernel_size, tuple) else (layer.kernel_size,)\n",
    "    d = layer.dilation if isinstance(layer.dilation, tuple) else (layer.dilation,)\n",
    "    s = layer.stride if isinstance(layer.stride, tuple) else (layer.stride,)\n",
    "    in_depth, in_height, in_width = x\n",
    "    out_depth = layer.out_channels\n",
    "    out_height = 1 + (in_height + 2 * p[0] - (k[0] - 1) * d[0] - 1) // s[0]\n",
    "    out_width = 1 + (in_width + 2 * p[-1] - (k[-1] - 1) * d[-1] - 1) // s[-1]\n",
    "    return (out_depth, out_height, out_width)"
   ]
  },
  {
   "cell_type": "code",
   "execution_count": 13,
   "id": "d9e1e594",
   "metadata": {},
   "outputs": [],
   "source": [
    "def plot_gen_samples_ppca(therm1, therm2, therm_data_sim):\n",
    "    plt.plot(therm1, therm2, '.', c='c', label='training data')\n",
    "    plt.plot(therm_data_sim[0], therm_data_sim[1], '.', c='m', label='\"generated\" data')\n",
    "    plt.axis('equal')\n",
    "    plt.xlabel('Thermometer 1 ($^\\circ$C)')\n",
    "    plt.ylabel('Thermometer 2 ($^\\circ$C)')\n",
    "    plt.legend()\n",
    "    plt.show()\n",
    "\n",
    "\n",
    "def plot_linear_ae(lin_losses):\n",
    "    plt.figure()\n",
    "    plt.plot(lin_losses)\n",
    "    plt.ylim([0, 2*torch.as_tensor(lin_losses).median()])\n",
    "    plt.xlabel('Training batch')\n",
    "    plt.ylabel('MSE Loss')\n",
    "    plt.show()\n",
    "\n",
    "\n",
    "def plot_conv_ae(lin_losses, conv_losses):\n",
    "    plt.figure()\n",
    "    plt.plot(lin_losses)\n",
    "    plt.plot(conv_losses)\n",
    "    plt.legend(['Lin AE', 'Conv AE'])\n",
    "    plt.xlabel('Training batch')\n",
    "    plt.ylabel('MSE Loss')\n",
    "    plt.ylim([0,\n",
    "            2*max(torch.as_tensor(conv_losses).median(),\n",
    "                  torch.as_tensor(lin_losses).median())])\n",
    "    plt.show()\n",
    "\n",
    "\n",
    "def plot_images(images, h=3, w=3, plt_title=''):\n",
    "    plt.figure(figsize=(h*2, w*2))\n",
    "    plt.suptitle(plt_title, y=1.03)\n",
    "    for i in range(h*w):\n",
    "        plt.subplot(h, w, i + 1)\n",
    "        plot_torch_image(images[i])\n",
    "    plt.axis('off')\n",
    "    plt.show()\n",
    "\n",
    "\n",
    "def plot_phi(phi, num=4):\n",
    "    plt.figure(figsize=(12, 3))\n",
    "    for i in range(num):\n",
    "        plt.subplot(1, num, i + 1)\n",
    "        plt.scatter(zs[i, :, 0], zs[i, :, 1], marker='.')\n",
    "        th = torch.linspace(0, 6.28318, 100)\n",
    "        x, y = torch.cos(th), torch.sin(th)\n",
    "        # Draw 2-sigma contours\n",
    "        plt.plot(\n",
    "            2*x*phi[i, 2].exp().item() + phi[i, 0].item(),\n",
    "            2*y*phi[i, 2].exp().item() + phi[i, 1].item()\n",
    "            )\n",
    "        plt.xlim(-5, 5)\n",
    "        plt.ylim(-5, 5)\n",
    "        plt.grid()\n",
    "        plt.axis('equal')\n",
    "    plt.suptitle('If rsample() is correct, then most but not all points should lie in the circles')\n",
    "    plt.show()\n",
    "\n",
    "\n",
    "def plot_torch_image(image, ax=None):\n",
    "    ax = ax if ax is not None else plt.gca()\n",
    "    c, h, w = image.size()\n",
    "    if c==1:\n",
    "        cm = 'gray'\n",
    "    else:\n",
    "        cm = None\n",
    "\n",
    "    # Torch images have shape (channels, height, width) but matplotlib expects\n",
    "    # (height, width, channels) or just (height,width) when grayscale\n",
    "    im_plt = torch.clip(image.detach().cpu().permute(1,2,0).squeeze(), 0.0, 1.0)\n",
    "    ax.imshow(im_plt, cmap=cm)\n",
    "    ax.set_xticks([])\n",
    "    ax.set_yticks([])\n",
    "    ax.spines['right'].set_visible(False)\n",
    "    ax.spines['top'].set_visible(False)"
   ]
  },
  {
   "cell_type": "code",
   "execution_count": 14,
   "id": "eb6cbf6b",
   "metadata": {},
   "outputs": [],
   "source": [
    "def set_seed(seed=None, seed_torch=True):\n",
    "    if seed is None:\n",
    "        seed = np.random.choice(2 ** 32)\n",
    "    random.seed(seed)\n",
    "    np.random.seed(seed)\n",
    "    if seed_torch:\n",
    "        torch.manual_seed(seed)\n",
    "        torch.cuda.manual_seed_all(seed)\n",
    "        torch.cuda.manual_seed(seed)\n",
    "        torch.backends.cudnn.benchmark = False\n",
    "        torch.backends.cudnn.deterministic = True\n",
    "\n",
    "    print(f'Random seed {seed} has been set.')\n",
    "\n",
    "\n",
    "# In case that `DataLoader` is used\n",
    "def seed_worker(worker_id):\n",
    "    worker_seed = torch.initial_seed() % 2**32\n",
    "    np.random.seed(worker_seed)\n",
    "    random.seed(worker_seed)\n",
    "    \n",
    "def set_device():\n",
    "    device = \"cuda\" if torch.cuda.is_available() else \"cpu\"\n",
    "    return device"
   ]
  },
  {
   "cell_type": "code",
   "execution_count": 15,
   "id": "73a708f0",
   "metadata": {},
   "outputs": [
    {
     "name": "stdout",
     "output_type": "stream",
     "text": [
      "Random seed 2021 has been set.\n"
     ]
    }
   ],
   "source": [
    "SEED = 2021\n",
    "set_seed(seed=SEED)\n",
    "DEVICE = set_device()"
   ]
  },
  {
   "cell_type": "code",
   "execution_count": 50,
   "id": "911d33a9",
   "metadata": {},
   "outputs": [],
   "source": [
    "ld_true = [-7.0066e-01, -2.6368e-01, -2.4250e+00, -2.0247e+00, -1.1795e+00,\n",
    "        -4.5558e-01, -7.1316e-01, -1.0932e-01, -7.8608e-01, -4.5838e-01,\n",
    "        -1.0530e+00, -9.1201e-01, -3.8020e+00, -1.7787e+00, -1.2246e+00,\n",
    "        -6.5677e-01, -3.6001e-01, -2.2313e-01, -1.8262e+00, -1.2649e+00,\n",
    "        -3.8330e-01, -8.8619e-02, -9.2357e-01, -1.3450e-01, -8.6891e-01,\n",
    "        -5.9257e-01, -4.8415e-02, -3.3197e+00, -1.6862e+00, -9.8506e-01,\n",
    "        -1.1871e+00, -7.0422e-02, -1.7378e+00, -1.3099e+00, -1.8926e+00,\n",
    "        -3.4508e+00, -1.5696e+00, -7.2787e-02, -3.2420e-01, -2.9795e-01,\n",
    "        -6.4189e-01, -1.4120e+00, -5.3684e-01, -3.4066e+00, -1.9753e+00,\n",
    "        -1.4178e+00, -2.0399e-01, -2.3173e-01, -1.2792e+00, -7.2990e-01,\n",
    "        -1.9872e-01, -2.9378e-03, -3.5890e-01, -5.6643e-01, -1.8003e-01,\n",
    "        -1.5818e+00, -5.2227e-01, -2.1862e+00, -1.8743e+00, -1.4200e+00,\n",
    "        -3.1988e-01, -3.5513e-01, -1.5905e+00, -4.2916e-01, -2.5556e-01,\n",
    "        -8.2807e-01, -6.5568e-01, -4.8475e-01, -2.1049e-01, -2.0104e-02,\n",
    "        -2.1655e+00, -1.1496e+00, -3.6168e-01, -8.9624e-02, -6.7098e-02,\n",
    "        -6.0623e-02, -5.1165e-01, -2.7302e+00, -6.0514e-01, -1.6756e+00,\n",
    "        -3.3807e+00, -5.7368e-02, -1.2763e-01, -6.6959e+00, -5.2157e-01,\n",
    "        -8.7762e-01, -8.7295e-01, -1.3052e+00, -3.6777e-01, -1.5904e+00,\n",
    "        -3.8083e-01, -2.8388e-01, -1.5323e-01, -3.7549e-01, -5.2722e+00,\n",
    "        -1.7393e+00, -2.8814e-01, -5.0310e-01, -2.2077e+00, -1.5507e+00,\n",
    "        -6.8569e-01, -1.4620e+00, -9.2639e-02, -1.4160e-01, -3.6734e-01,\n",
    "        -1.0053e+00, -6.7353e-01, -2.2676e+00, -6.0812e-01, -1.0005e+00,\n",
    "        -4.2908e-01, -5.1369e-01, -2.2579e-02, -1.8496e-01, -3.4798e-01,\n",
    "        -7.3089e-01, -1.1962e+00, -1.6095e+00, -1.7558e-01, -3.3166e-01,\n",
    "        -1.1445e+00, -2.4674e+00, -5.0600e-01, -2.0727e+00, -5.4371e-01,\n",
    "        -8.0499e-01, -3.0521e+00, -3.6835e-02, -2.0485e-01, -4.6747e-01,\n",
    "        -3.6399e-01, -2.6883e+00, -1.9348e-01, -3.1448e-01, -1.6332e-01,\n",
    "        -3.2233e-02, -2.3336e-01, -2.6564e+00, -1.2841e+00, -1.3561e+00,\n",
    "        -7.4717e-01, -2.7926e-01, -8.7849e-01, -3.3715e-02, -1.4933e-01,\n",
    "        -2.7738e-01, -1.6899e+00, -1.5758e+00, -3.2608e-01, -6.5770e-01,\n",
    "        -1.7136e+00, -5.8316e+00, -1.1988e+00, -8.3828e-01, -1.8033e+00,\n",
    "        -2.3017e-01, -8.9936e-01, -1.1917e-01, -1.6659e-01, -2.7669e-01,\n",
    "        -1.2955e+00, -1.2076e+00, -2.2793e-01, -1.0528e+00, -1.4894e+00,\n",
    "        -5.7428e-01, -7.3208e-01, -9.5673e-01, -1.6617e+00, -3.9169e+00,\n",
    "        -1.2182e-01, -3.8092e-01, -1.1924e+00, -2.4566e+00, -2.7350e+00,\n",
    "        -2.8332e+00, -9.1506e-01, -6.7432e-02, -7.8965e-01, -2.0727e-01,\n",
    "        -3.4615e-02, -2.8868e+00, -2.1218e+00, -1.2368e-03, -9.0038e-01,\n",
    "        -5.3746e-01, -5.4080e-01, -3.1625e-01, -1.1786e+00, -2.2797e-01,\n",
    "        -1.1498e+00, -1.3978e+00, -1.9515e+00, -1.1614e+00, -5.1456e-03,\n",
    "        -1.9316e-01, -1.3849e+00, -9.2799e-01, -1.1649e-01, -2.3837e-01]\n",
    "\n",
    "\n",
    "def plotting_ld(ld, true=ld_true):\n",
    "    fig, ax = plt.subplots(figsize=(7, 7))\n",
    "    ax.plot([-6, 1], [-6, 1], label=\"Ground Truth\")\n",
    "    ax.scatter(true, ld, marker=\"x\",\n",
    "             label=\"Your implementation\")\n",
    "    ax.set_xlabel(\"Loss from oracle implementation\")\n",
    "    ax.set_ylabel(\"Loss from your implementation\")\n",
    "    ax.legend()\n",
    "    ax.set_title(\"Discriminator Loss\")\n",
    "    plt.show()\n",
    "\n",
    "\n",
    "lg_true = [-7.0066e-01, -2.6368e-01, -2.4250e+00, -2.0247e+00, -1.1795e+00,\n",
    "        -4.5558e-01, -7.1316e-01, -1.0932e-01, -7.8608e-01, -4.5838e-01,\n",
    "        -1.0530e+00, -9.1201e-01, -3.8020e+00, -1.7787e+00, -1.2246e+00,\n",
    "        -6.5677e-01, -3.6001e-01, -2.2313e-01, -1.8262e+00, -1.2649e+00,\n",
    "        -3.8330e-01, -8.8619e-02, -9.2357e-01, -1.3450e-01, -8.6891e-01,\n",
    "        -5.9257e-01, -4.8415e-02, -3.3197e+00, -1.6862e+00, -9.8506e-01,\n",
    "        -1.1871e+00, -7.0422e-02, -1.7378e+00, -1.3099e+00, -1.8926e+00,\n",
    "        -3.4508e+00, -1.5696e+00, -7.2787e-02, -3.2420e-01, -2.9795e-01,\n",
    "        -6.4189e-01, -1.4120e+00, -5.3684e-01, -3.4066e+00, -1.9753e+00,\n",
    "        -1.4178e+00, -2.0399e-01, -2.3173e-01, -1.2792e+00, -7.2990e-01,\n",
    "        -1.9872e-01, -2.9378e-03, -3.5890e-01, -5.6643e-01, -1.8003e-01,\n",
    "        -1.5818e+00, -5.2227e-01, -2.1862e+00, -1.8743e+00, -1.4200e+00,\n",
    "        -3.1988e-01, -3.5513e-01, -1.5905e+00, -4.2916e-01, -2.5556e-01,\n",
    "        -8.2807e-01, -6.5568e-01, -4.8475e-01, -2.1049e-01, -2.0104e-02,\n",
    "        -2.1655e+00, -1.1496e+00, -3.6168e-01, -8.9624e-02, -6.7098e-02,\n",
    "        -6.0623e-02, -5.1165e-01, -2.7302e+00, -6.0514e-01, -1.6756e+00,\n",
    "        -3.3807e+00, -5.7368e-02, -1.2763e-01, -6.6959e+00, -5.2157e-01,\n",
    "        -8.7762e-01, -8.7295e-01, -1.3052e+00, -3.6777e-01, -1.5904e+00,\n",
    "        -3.8083e-01, -2.8388e-01, -1.5323e-01, -3.7549e-01, -5.2722e+00,\n",
    "        -1.7393e+00, -2.8814e-01, -5.0310e-01, -2.2077e+00, -1.5507e+00]\n",
    "\n",
    "\n",
    "def plotting_lg(lg, true=lg_true):\n",
    "    fig, ax = plt.subplots(figsize=(7, 7))\n",
    "    ax.plot([-6, 1], [-6, 1], label=\"Ground Truth\")\n",
    "    ax.scatter(true, lg, marker=\"x\",\n",
    "             label=\"Your implementation\")\n",
    "    ax.set_xlabel(\"Loss from oracle implementation\")\n",
    "    ax.set_ylabel(\"Loss from your implementation\")\n",
    "    ax.legend()\n",
    "    ax.set_title(\"Generator loss\")\n",
    "    plt.show()"
   ]
  },
  {
   "cell_type": "markdown",
   "id": "a047debf",
   "metadata": {},
   "source": [
    "# Download data"
   ]
  },
  {
   "cell_type": "code",
   "execution_count": 16,
   "id": "8d68f351",
   "metadata": {},
   "outputs": [],
   "source": [
    "fname = 'wordnet.zip'\n",
    "url = 'https://osf.io/ekjxy/download'\n",
    "r = requests.get(url, allow_redirects=True)\n",
    "\n",
    "with open('wordnet.zip', 'wb') as fd:\n",
    "    fd.write(r.content)"
   ]
  },
  {
   "cell_type": "markdown",
   "id": "4b4e59c0",
   "metadata": {},
   "source": [
    "# Variational Autoencoders (VAEs)"
   ]
  },
  {
   "cell_type": "markdown",
   "id": "0b1b7b32",
   "metadata": {},
   "source": [
    "## Generating Images from BigGAN"
   ]
  },
  {
   "cell_type": "code",
   "execution_count": 17,
   "id": "405b6185",
   "metadata": {},
   "outputs": [],
   "source": [
    "# download bigGan\n",
    "url = \"https://osf.io/3yvhw/download\"\n",
    "fname = \"biggan_deep_256\"\n",
    "r = requests.get(url, allow_redirects=True)\n",
    "with open(fname, 'wb') as fd:\n",
    "    fd.write(r.content)\n",
    "\n",
    "biggan_model = torch.load(fname)"
   ]
  },
  {
   "cell_type": "markdown",
   "id": "b23469d6",
   "metadata": {},
   "source": [
    "To demonstrate the power of generative models, we are giving you a sneak peek of a fully trained generative model called BigGAN. You’ll see it again (with more background under your belt) later today. For now, let’s just focus on BigGAN as a generative model. Specifically, BigGAN is a class conditional generative model for 128 x 128 images. The classes are based on categorical labels that describe the images and images are generated based upon a vector (z from the video lecture) and the probability that the image comes from a specific discrete category.\n",
    "\n",
    "For now, don’t worry about the specifics of the model other than the fact that it generates images based on the vector and the category label.\n",
    "\n",
    "To explore the space of generated images, we’ve provided you with a widget that allows you to select a category label and to alter the value of the vector. The vector is a 128-D, which may seem high dimensional, but is much lower-dimensional than a 128 x 128 image! To simplify usability the widget limits the magnitude of the vector and constrains all entries to be equal (so you are only exploring a subset of the possible images that can be generated)."
   ]
  },
  {
   "cell_type": "code",
   "execution_count": 27,
   "id": "3a76fdb9",
   "metadata": {},
   "outputs": [
    {
     "data": {
      "application/vnd.jupyter.widget-view+json": {
       "model_id": "cec7f0eb2eb64aaa8dda1c2eaaf08294",
       "version_major": 2,
       "version_minor": 0
      },
      "text/plain": [
       "VBox(children=(Dropdown(description='Category: ', index=3, options=('tench', 'magpie', 'jellyfish', 'German sh…"
      ]
     },
     "metadata": {},
     "output_type": "display_data"
    },
    {
     "data": {
      "application/vnd.jupyter.widget-view+json": {
       "model_id": "e28bdf7f85d040058c74e12e891f9c77",
       "version_major": 2,
       "version_minor": 0
      },
      "text/plain": [
       "Output()"
      ]
     },
     "metadata": {},
     "output_type": "display_data"
    }
   ],
   "source": [
    "def sample_from_biggan(category, z_magnitude):\n",
    "    unit_vector = np.ones((1, 128))/np.sqrt(128)\n",
    "    z = z_magnitude * unit_vector\n",
    "    y = one_hot_from_names(category, batch_size=1)\n",
    "\n",
    "    z = torch.from_numpy(z)\n",
    "    z = z.float()\n",
    "    y = torch.from_numpy(y)\n",
    "\n",
    "    # Move to GPU\n",
    "    z = z.to(device=set_device())\n",
    "    y = y.to(device=set_device())\n",
    "    biggan_model.to(device=set_device())\n",
    "\n",
    "    with torch.no_grad():\n",
    "        output = biggan_model(z, y, 1)\n",
    "\n",
    "    # Back to CPU\n",
    "    output = output.to('cpu')\n",
    "\n",
    "    # The output layer of BigGAN has a tanh layer, resulting the range of [-1, 1] for the output image\n",
    "    # Therefore, we normalize the images properly to [0, 1] range.\n",
    "    # Clipping is only in case of numerical instability problems\n",
    "\n",
    "    output = torch.clip(((output.detach().clone() + 1) / 2.0), 0, 1)\n",
    "\n",
    "    plt.imshow(torch.movedim(output.squeeze(), 0, -1))\n",
    "    plt.axis('off')\n",
    "\n",
    "z_slider = IntSlider(min=-15, max=15, step=1, value=0,\n",
    "                     continuous_update=False,\n",
    "                     description='Z Magnitude',\n",
    "                     layout=Layout(width='440px'))\n",
    "\n",
    "category_dropdown = Dropdown(\n",
    "    options=['tench', 'magpie', 'jellyfish', 'German shepherd', 'bee',\n",
    "             'acoustic guitar', 'coffee mug', 'minibus', 'monitor'],\n",
    "             value=\"German shepherd\",\n",
    "             description=\"Category: \")\n",
    "\n",
    "widgets_ui = VBox([category_dropdown, z_slider])\n",
    "\n",
    "widgets_out = interactive_output(sample_from_biggan,\n",
    "                                 {\n",
    "                                     'z_magnitude': z_slider,\n",
    "                                  'category': category_dropdown\n",
    "                                  }\n",
    "                                 )\n",
    "\n",
    "display(widgets_ui, widgets_out)"
   ]
  },
  {
   "cell_type": "markdown",
   "id": "bc8770d5",
   "metadata": {},
   "source": [
    "## Interpolating Images with BigGAN"
   ]
  },
  {
   "cell_type": "code",
   "execution_count": 29,
   "id": "04f2d2b5",
   "metadata": {},
   "outputs": [
    {
     "data": {
      "application/vnd.jupyter.widget-view+json": {
       "model_id": "ca89966044af45f0afbdbcccd97e182e",
       "version_major": 2,
       "version_minor": 0
      },
      "text/plain": [
       "VBox(children=(HBox(children=(Dropdown(description='Category A: ', index=3, options=('tench', 'magpie', 'jelly…"
      ]
     },
     "metadata": {},
     "output_type": "display_data"
    },
    {
     "data": {
      "application/vnd.jupyter.widget-view+json": {
       "model_id": "4010db36c9104b098ab8872bde07594c",
       "version_major": 2,
       "version_minor": 0
      },
      "text/plain": [
       "Output()"
      ]
     },
     "metadata": {},
     "output_type": "display_data"
    }
   ],
   "source": [
    "def interpolate_biggan(category_A, z_magnitude_A, category_B, z_magnitude_B):\n",
    "    num_interps = 16\n",
    "\n",
    "    # category_A = 'jellyfish' #@param ['tench', 'magpie', 'jellyfish', 'German shepherd', 'bee', 'acoustic guitar', 'coffee mug', 'minibus', 'monitor']\n",
    "    # z_magnitude_A = 0 #@param {type:\"slider\", min:-10, max:10, step:1}\n",
    "\n",
    "    # category_B = 'German shepherd' #@param ['tench', 'magpie', 'jellyfish', 'German shepherd', 'bee', 'acoustic guitar', 'coffee mug', 'minibus', 'monitor']\n",
    "    # z_magnitude_B = 0 #@param {type:\"slider\", min:-10, max:10, step:1}\n",
    "\n",
    "\n",
    "    def interpolate_and_shape(A, B, num_interps):\n",
    "        interps = interpolate(A, B, num_interps)\n",
    "        return (interps.transpose(1, 0, *range(2, len(interps.shape)))\n",
    "                  .reshape(num_interps, *interps.shape[2:]))\n",
    "\n",
    "    unit_vector = np.ones((1, 128))/np.sqrt(128)\n",
    "    z_A = z_magnitude_A * unit_vector\n",
    "    z_B = z_magnitude_B * unit_vector\n",
    "    y_A = one_hot_from_names(category_A, batch_size=1)\n",
    "    y_B = one_hot_from_names(category_B, batch_size=1)\n",
    "\n",
    "    z_interp = interpolate_and_shape(z_A, z_B, num_interps)\n",
    "    y_interp = interpolate_and_shape(y_A, y_B, num_interps)\n",
    "\n",
    "    # Convert to tensor\n",
    "    z_interp = torch.from_numpy(z_interp)\n",
    "    z_interp = z_interp.float()\n",
    "    y_interp = torch.from_numpy(y_interp)\n",
    "\n",
    "    # Move to GPU\n",
    "    z_interp = z_interp.to(DEVICE)\n",
    "    y_interp = y_interp.to(DEVICE)\n",
    "    biggan_model.to(DEVICE)\n",
    "\n",
    "    with torch.no_grad():\n",
    "        output = biggan_model(z_interp, y_interp, 1)\n",
    "\n",
    "    # Back to CPU\n",
    "    output = output.to('cpu')\n",
    "\n",
    "    # The output layer of BigGAN has a tanh layer, resulting the range of [-1, 1] for the output image\n",
    "    # Therefore, we normalize the images properly to [0, 1] range.\n",
    "    # Clipping is only in case of numerical instability problems\n",
    "\n",
    "    output = torch.clip(((output.detach().clone() + 1) / 2.0), 0, 1)\n",
    "    output = output\n",
    "\n",
    "    # Make grid and show generated samples\n",
    "    output_grid = torchvision.utils.make_grid(output,\n",
    "                                            nrow=min(4, output.shape[0]),\n",
    "                                            padding=5)\n",
    "    plt.axis('off');\n",
    "    plt.imshow(output_grid.permute(1, 2, 0))\n",
    "    plt.show()\n",
    "\n",
    "\n",
    "z_A_slider = IntSlider(min=-10, max=10, step=1, value=0,\n",
    "                        continuous_update=False, description='Z Magnitude A',\n",
    "                        layout=Layout(width='440px'), style={'description_width': 'initial'})\n",
    "\n",
    "z_B_slider = IntSlider(min=-10, max=10, step=1, value=0,\n",
    "                        continuous_update=False, description='Z Magntude B',\n",
    "                        layout=Layout(width='440px'), style={'description_width': 'initial'})\n",
    "\n",
    "category_A_dropdown = Dropdown(\n",
    "    options=['tench', 'magpie', 'jellyfish', 'German shepherd', 'bee',\n",
    "             'acoustic guitar', 'coffee mug', 'minibus', 'monitor'],\n",
    "                      value=\"German shepherd\", description=\"Category A: \")\n",
    "\n",
    "category_B_dropdown = Dropdown(\n",
    "    options=['tench', 'magpie', 'jellyfish', 'German shepherd', 'bee',\n",
    "             'acoustic guitar', 'coffee mug', 'minibus', 'monitor'],\n",
    "                      value=\"jellyfish\", description=\"Category B: \")\n",
    "\n",
    "\n",
    "\n",
    "widgets_ui = VBox([HBox([category_A_dropdown, z_A_slider]),\n",
    "                   HBox([category_B_dropdown, z_B_slider])])\n",
    "\n",
    "widgets_out = interactive_output(interpolate_biggan,\n",
    "                                 {'category_A': category_A_dropdown,\n",
    "                                  'z_magnitude_A': z_A_slider,\n",
    "                                  'category_B': category_B_dropdown,\n",
    "                                  'z_magnitude_B': z_B_slider})\n",
    "\n",
    "display(widgets_ui, widgets_out)"
   ]
  },
  {
   "cell_type": "markdown",
   "id": "fc71ceea",
   "metadata": {},
   "source": [
    "## Autoencoders"
   ]
  },
  {
   "cell_type": "markdown",
   "id": "ad612c19",
   "metadata": {},
   "source": [
    "Now we'll create our first autoencoder. It will reduce images down to $K$ dimensions. The architecture will be quite simple: the input will be linearly mapped to a single hidden (or latent) layer $\\mathbf{h}$ with $K$ units, which will then be linearly mapped back to an output that is the same size as the input:\n",
    "\n",
    "\\begin{equation}\n",
    "\\mathbf{x} \\longrightarrow \\mathbf{h} \\longrightarrow \\mathbf{x'}\n",
    "\\end{equation}\n",
    "\n",
    "The loss function we'll use will simply be mean squared error (MSE) quantifying how well the reconstruction ($\\mathbf{x'}$) matches the original image ($\\mathbf{x}$):\n",
    "\n",
    "\\begin{equation}\n",
    "\\text{MSE Loss} = \\sum_{i=1}^{N} ||\\mathbf{x}_i - \\mathbf{x'}_i||^2_2\n",
    "\\end{equation}\n",
    "\n",
    "If all goes well, then the AutoEncoder will learn, **end to end**, a good \"encoding\" or \"compression\" of inputs to a latent representation ($\\mathbf{x \\longrightarrow h}$) as well as a good \"decoding\" of that latent representation to a reconstruction of the original input ($\\mathbf{h \\longrightarrow x'}$)."
   ]
  },
  {
   "cell_type": "markdown",
   "id": "090c50b1",
   "metadata": {},
   "source": [
    "## Nonlinear Convolutional Autoencoder"
   ]
  },
  {
   "cell_type": "markdown",
   "id": "8cfe8874",
   "metadata": {},
   "source": [
    "**Nonlinear:** We'd like to apply autoencoders to learn a more flexible nonlinear mapping between the latent space and the images. Such a mapping can provide a more \"expressive\" model that better describes the image data than a linear mapping. This can be achieved by adding nonlinear activation functions to our encoder and decoder!\n",
    "\n",
    "**Convolutional:** As you saw on the day dedicated to RNNs and CNNs, parameter sharing is often a good idea for images! It's quite common to use convolutional layers in autoencoders to share parameters across locations in the image.\n",
    "\n",
    "**Side Note:** The `nn.Linear` layer (used in the linear autoencoder above) has a \"bias\" term, which is a learnable offset parameter separate for each output unit. Just like PCA \"centers\" the data by subtracting off the mean image (`mu`) before encoding and adds the average back in during decoding, a bias term in the decoder can effectively account for the first moment (mean) of the data (i.e. the average of all images in the training set). Convolution layers do have bias parameters, but the bias is applied per filter rather than per pixel location. If we're generating grayscale images (like those in MNIST), then `Conv2d` will learn only one bias across the entire image.\n",
    "\n",
    "For some conceptual continuity with both PCA and the `nn.Linear` layers above, the next block defines a custom `BiasLayer` for adding a learnable per-pixel offset. This custom layer will be used twice: as the first stage of the encoder and as the final stage of the decoder. Ideally, this means that the rest of the neural net can focus on fitting more interesting fine-grained structure."
   ]
  },
  {
   "cell_type": "code",
   "execution_count": 42,
   "id": "2fa7c62f",
   "metadata": {},
   "outputs": [],
   "source": [
    "class BiasLayer(nn.Module):\n",
    "    def __init__(self, shape):\n",
    "        super(BiasLayer, self).__init__()\n",
    "        init_bias = torch.zeros(shape)\n",
    "        self.bias = nn.Parameter(init_bias, requires_grad=True)\n",
    "\n",
    "    def forward(self, x):\n",
    "        return x + self.bias"
   ]
  },
  {
   "cell_type": "markdown",
   "id": "d11fa0c1",
   "metadata": {},
   "source": [
    "With that out of the way, we will next define a **nonlinear** and **convolutional** autoencoder. Here's a quick tour of the architecture:\n",
    "\n",
    "1. The **encoder** once again maps from images to $\\mathbf{h}\\in\\mathbb{R}^K$. This will use a `BiasLayer` followed by two convolutional layers (`nn.Conv2D`), followed by flattening and linearly projecting down to $K$ dimensions. The convolutional layers will have `ReLU` nonlinearities on their outputs. \n",
    "1. The **decoder** inverts this process, taking in vectors of length $K$ and outputting images. Roughly speaking, its architecture is a \"mirror image\" of the encoder: the first decoder layer is linear, followed by two **deconvolution** layers ([`ConvTranspose2d`](https://pytorch.org/docs/stable/generated/torch.nn.ConvTranspose2d.html)). The `ConvTranspose2d`layers will have `ReLU` nonlinearities on their _inputs_. This \"mirror image\" between the encoder and decoder is a useful and near-ubiquitous convention. The idea is that the decoder can then learn to approximately invert the encoder, but it is not a strict requirement (and it does not guarantee the decoder will be an exact inverse of the encoder!).\n",
    "\n",
    "Below is a schematic of the architecture for MNIST. Notice that the width and height dimensions of the image planes reduce after each `nn.Conv2d` and increase after each `nn.ConvTranspose2d`. With CIFAR10, the architecture is the same but the exact sizes will differ.\n",
    "\n",
    "<img src=\"https://raw.githubusercontent.com/NeuromatchAcademy/course-content-dl/main/tutorials/W2D5_GenerativeModels/static/conv_sizes.png\">"
   ]
  },
  {
   "cell_type": "code",
   "execution_count": 43,
   "id": "4d8b0e44",
   "metadata": {},
   "outputs": [
    {
     "name": "stdout",
     "output_type": "stream",
     "text": [
      "Size of image is torch.Size([1, 1, 28, 28])\n",
      "Size of Conv2D(image) torch.Size([1, 7, 24, 24])\n",
      "Size of ConvTranspose2D(Conv2D(image)) torch.Size([1, 1, 28, 28])\n"
     ]
    }
   ],
   "source": [
    "dummy_image = torch.rand(data_shape).unsqueeze(0)\n",
    "in_channels = data_shape[0]\n",
    "out_channels = 7\n",
    "\n",
    "dummy_conv = nn.Conv2d(in_channels=in_channels,\n",
    "                       out_channels=out_channels,\n",
    "                       kernel_size=5)\n",
    "\n",
    "dummy_deconv = nn.ConvTranspose2d(in_channels=out_channels,\n",
    "                                  out_channels=in_channels,\n",
    "                                  kernel_size=5)\n",
    "\n",
    "print(f'Size of image is {dummy_image.shape}')\n",
    "print(f'Size of Conv2D(image) {dummy_conv(dummy_image).shape}')\n",
    "print(f'Size of ConvTranspose2D(Conv2D(image)) {dummy_deconv(dummy_conv(dummy_image)).shape}')"
   ]
  },
  {
   "cell_type": "code",
   "execution_count": 44,
   "id": "3fcd231e",
   "metadata": {},
   "outputs": [],
   "source": [
    "class ConvAutoEncoder(nn.Module):\n",
    "    def __init__(self, x_dim, h_dim, n_filters=32, filter_size=5):\n",
    "        \"\"\"A Convolutional AutoEncoder\n",
    "\n",
    "        Args:\n",
    "          x_dim (tuple): input dimensions (channels, height, widths)\n",
    "          h_dim (int): hidden dimension, bottleneck dimension, K\n",
    "          n_filters (int): number of filters (number of output channels)\n",
    "          filter_size (int): kernel size\n",
    "        \"\"\"\n",
    "        super().__init__()\n",
    "        channels, height, widths = x_dim\n",
    "\n",
    "        # encoder input bias layer\n",
    "        self.enc_bias = BiasLayer(x_dim)\n",
    "\n",
    "        # first encoder conv2d layer\n",
    "        self.enc_conv_1 = nn.Conv2d(channels, n_filters, filter_size)\n",
    "\n",
    "        # output shape of the first encoder conv2d layer given x_dim input\n",
    "        conv_1_shape = cout(x_dim, self.enc_conv_1)\n",
    "\n",
    "        # second encoder conv2d layer\n",
    "        self.enc_conv_2 = nn.Conv2d(n_filters, n_filters, filter_size)\n",
    "\n",
    "        # output shape of the second encoder conv2d layer given conv_1_shape input\n",
    "        conv_2_shape = cout(conv_1_shape, self.enc_conv_2)\n",
    "\n",
    "        # The bottleneck is a dense layer, therefore we need a flattenning layer\n",
    "        self.enc_flatten = nn.Flatten()\n",
    "\n",
    "        # conv output shape is (depth, height, width), so the flatten size is:\n",
    "        flat_after_conv = conv_2_shape[0] * conv_2_shape[1] * conv_2_shape[2]\n",
    "\n",
    "        # encoder Linear layer\n",
    "        self.enc_lin = nn.Linear(flat_after_conv, h_dim)\n",
    "\n",
    "        # decoder Linear layer\n",
    "        self.dec_lin = nn.Linear(h_dim, flat_after_conv)\n",
    "\n",
    "        # unflatten data to (depth, height, width) shape\n",
    "        self.dec_unflatten = nn.Unflatten(dim=-1, unflattened_size=conv_2_shape)\n",
    "\n",
    "        # first \"deconvolution\" layer\n",
    "        self.dec_deconv_1 = nn.ConvTranspose2d(n_filters, n_filters, filter_size)\n",
    "\n",
    "        # second \"deconvolution\" layer\n",
    "        self.dec_deconv_2 = nn.ConvTranspose2d(n_filters, channels, filter_size)\n",
    "\n",
    "        # decoder output bias layer\n",
    "        self.dec_bias = BiasLayer(x_dim)\n",
    "\n",
    "    def encode(self, x):\n",
    "        s = self.enc_bias(x)\n",
    "        s = F.relu(self.enc_conv_1(s))\n",
    "        s = F.relu(self.enc_conv_2(s))\n",
    "        s = self.enc_flatten(s)\n",
    "        h = self.enc_lin(s)\n",
    "        return h\n",
    "\n",
    "    def decode(self, h):\n",
    "        s = F.relu(self.dec_lin(h))\n",
    "        s = self.dec_unflatten(s)\n",
    "        s = F.relu(self.dec_deconv_1(s))\n",
    "        s = self.dec_deconv_2(s)\n",
    "        x_prime = self.dec_bias(s)\n",
    "        return x_prime\n",
    "\n",
    "    def forward(self, x):\n",
    "        return self.decode(self.encode(x))"
   ]
  },
  {
   "cell_type": "markdown",
   "id": "5bc1b76e",
   "metadata": {},
   "source": [
    "## Variational Autoencoders"
   ]
  },
  {
   "cell_type": "markdown",
   "id": "7a577974",
   "metadata": {},
   "source": [
    "*Recognition models and density networks*\n",
    "\n",
    "\n",
    "Variational AutoEncoders (VAEs) are a lot like the classic AutoEncoders (AEs), but where we explicitly think about probability distributions. In the language of VAEs, the __encoder__ is replaced with a __recognition model__, and the __decoder__ is replaced with a __density network__.\n",
    "\n",
    "Where in a classic autoencoder the encoder maps from images to a single hidden vector,\n",
    "\n",
    "\\begin{equation}\n",
    "\\mathbf{x} \\overset{\\text{AE}}{\\longrightarrow} \\mathbf{h} \\, ,\n",
    "\\end{equation}\n",
    "\n",
    "in a VAE we would say that a recognition model maps from inputs to entire __distributions__ over hidden vectors,\n",
    "\n",
    "\\begin{equation}\n",
    "\\mathbf{x} \\overset{\\text{VAE}}{\\longrightarrow} q_{\\mathbf{w_e}}(\\mathbf{z}) \\, ,\n",
    "\\end{equation}\n",
    "\n",
    "which we will then sample from. Here $\\mathbf{w_e}$ refers to the weights of the recognition model, which parametarize our distribution generating network. We'll say more in a moment about what kind of distribution $q_{\\mathbf{w_e}}(\\mathbf{z})$ is.\n",
    "Part of what makes VAEs work is that the loss function will require good reconstructions of the input not just for a single $\\mathbf{z}$, but _on average_ from samples of $\\mathbf{z} \\sim q_{\\mathbf{w_e}}(\\mathbf{z})$.\n",
    "\n",
    "In the classic autoencoder, we had a decoder which maps from hidden vectors to reconstructions of the input:\n",
    "\n",
    "\\begin{equation}\n",
    "\\mathbf{h} \\overset{\\text{AE}}{\\longrightarrow} \\mathbf{x'} \\, .\n",
    "\\end{equation}\n",
    "\n",
    "In a density network, reconstructions are expressed in terms of a distribution:\n",
    "\n",
    "\\begin{equation}\n",
    "\\mathbf{z} \\overset{\\text{VAE}}{\\longrightarrow} p_{\\mathbf{w_d}}(\\mathbf{x}|\\mathbf{z})\n",
    "\\end{equation}\n",
    "\n",
    "where, as above, $p_{\\mathbf{w_d}}(\\mathbf{x}|\\mathbf{z})$ is defined by mapping $\\mathbf{z}$ through a density network then treating the resulting $f(\\mathbf{z};\\mathbf{w_d})$ as the mean of a (Gaussian) distribution over $\\mathbf{x}$. Similarly, our reconstruction distribution is parametarized by the weights of the density network."
   ]
  },
  {
   "cell_type": "markdown",
   "id": "8864b91c",
   "metadata": {},
   "source": [
    "If we isolate the decoder part of the AutoEncoder, what we have is a neural network that takes as input a vector of size $K$ and produces as output an image that looks something like our training data. Recall that in our earlier notation, we had an input $\\mathbf{x}$ that was mapped to a low-dimensional hidden representation $\\mathbf{h}$ which was then decoded into a reconstruction of the input, $\\mathbf{x'}$:\n",
    "\n",
    "\\begin{equation}\n",
    "\\mathbf{x} \\overset{\\text{encode}}{\\longrightarrow} \\mathbf{h} \\overset{\\text{decode}}{\\longrightarrow} \\mathbf{x'}\\, .\n",
    "\\end{equation}\n",
    "\n",
    "Partly as a matter of convention, and partly to distinguish where we are going next from the previous section, we're going to introduce a new variable, $\\mathbf{z} \\in \\mathbb{R}^K$, which will take the place of $\\mathbf{h}$. The key difference is that while $\\mathbf{h}$ is produced by the encoder for a particular $\\mathbf{x}$, $\\mathbf{z}$ will be drawn out of thin air from a prior of our choosing:\n",
    "\n",
    "\\begin{equation}\n",
    "\\mathbf{z} \\sim p(\\mathbf{z})\\\\ \\mathbf{z} \\overset{\\text{decode}}{\\longrightarrow} \\mathbf{x}\\, .\n",
    "\\end{equation}\n",
    "\n",
    "(Note that it is also common convention to drop the \"prime\" on $\\mathbf{x}$ when it is no longer being thought of as a \"reconstruction\")."
   ]
  },
  {
   "cell_type": "markdown",
   "id": "9daaac1b",
   "metadata": {},
   "source": [
    "# Generative Adversarial Network (GAN) Models"
   ]
  },
  {
   "cell_type": "markdown",
   "id": "8b194291",
   "metadata": {},
   "source": [
    "GANs consist two networks: A critic or discriminator (`disc`) and a generator (`gen`) that are trained by alternating between the following two steps:\n",
    "- In step 1, we update the parameters (`disc.params`) of the discriminator by backpropagating through the discriminator loss (BCE loss) `disc.loss`.\n",
    "- In step 2, we update the parameters (`gen.params`) of the generator by backpropagating through the generator loss, `gen.loss` (-1 * BCE loss).\n",
    "\n",
    "We will now implement a simple GAN training loop!"
   ]
  },
  {
   "cell_type": "code",
   "execution_count": 46,
   "id": "09f0a814",
   "metadata": {},
   "outputs": [],
   "source": [
    "def get_data():\n",
    "    return \"get_data\"\n",
    "\n",
    "\n",
    "class Disc:\n",
    "\n",
    "    def loss(self, x_real, x_fake):\n",
    "        assert x_real == \"get_data\" and x_fake == \"gen.sample\", \"Inputs to disc.loss is wrong\"\n",
    "\n",
    "    def classify(self, x):\n",
    "        return \"disc.classify\"\n",
    "\n",
    "\n",
    "class Gen:\n",
    "\n",
    "    def loss(self, x_fake, disc_fn):\n",
    "        assert x_fake == \"gen.sample\" and disc_fn(None) == \"disc.classify\", \"Inputs to gen.loss is wrong\"\n",
    "\n",
    "    def sample(self, num_samples):\n",
    "        return \"gen.sample\"\n",
    "\n",
    "\n",
    "def backprop(loss, model):\n",
    "    pass\n",
    "\n",
    "\n",
    "def update(model, grad):\n",
    "    pass"
   ]
  },
  {
   "cell_type": "code",
   "execution_count": 47,
   "id": "4a468b6f",
   "metadata": {},
   "outputs": [
    {
     "name": "stdout",
     "output_type": "stream",
     "text": [
      "Your implementation passes the check!\n"
     ]
    }
   ],
   "source": [
    "def train_gan_iter(data, disc, gen):\n",
    "    \"\"\"Update the discriminator (`disc`) and the generator (`gen`) using `data`\n",
    "    Args:\n",
    "    data (ndarray): An array of shape (N,) that contains the data\n",
    "    disc (Disc): The discriminator\n",
    "    gen (Gen): The generator\n",
    "    Returns:\n",
    "    \"\"\"\n",
    "\n",
    "    # Number of samples in the data batch\n",
    "    num_samples = 200\n",
    "\n",
    "    # The data is the real samples\n",
    "    x_real = data\n",
    "\n",
    "    ## Discriminator training\n",
    "\n",
    "    # Ask the generator to generate some fake samples\n",
    "    x_fake = gen.sample(num_samples)\n",
    "\n",
    "    # Compute the discriminator loss\n",
    "    disc_loss = disc.loss(x_real, x_fake)\n",
    "\n",
    "    # Compute the gradient for discriminator\n",
    "    disc_grad = backprop(disc_loss, disc)\n",
    "\n",
    "    # Update the discriminator\n",
    "    update(disc, disc_grad)\n",
    "\n",
    "    ## Generator training\n",
    "\n",
    "    # Ask the generator to generate some fake samples\n",
    "    x_fake = gen.sample(num_samples)\n",
    "\n",
    "    # Compute the generator loss\n",
    "    gen_loss = gen.loss(x_fake, disc.classify)\n",
    "\n",
    "    # Compute the gradient for generator\n",
    "    gen_grad = backprop(gen_loss, gen)\n",
    "\n",
    "    # Update the generator\n",
    "    update(gen, gen_grad)\n",
    "\n",
    "    print(\"Your implementation passes the check!\")\n",
    "\n",
    "    return None\n",
    "\n",
    "data = get_data()\n",
    "disc = Disc()\n",
    "gen = Gen()\n",
    "train_gan_iter(data, disc, gen)"
   ]
  },
  {
   "cell_type": "markdown",
   "id": "763cedc4",
   "metadata": {},
   "source": [
    "## GAN Training Objective"
   ]
  },
  {
   "cell_type": "markdown",
   "id": "4766358e",
   "metadata": {},
   "source": [
    "### Discriminator Loss"
   ]
  },
  {
   "cell_type": "markdown",
   "id": "b1d6ab51",
   "metadata": {},
   "source": [
    "The critic or the discriminator in a vanilla GAN is trained as a binary classifier using the BCE criteria. In this section, we will implement the training objective for the discriminator. \n",
    "\n",
    "\\begin{equation}\n",
    "\\text{BCE}_\\omega = \\mathbb{E}_{x \\sim p}[\\log(\\sigma(D_\\omega(x)))] + \\mathbb{E}_{x \\sim q}[\\log(1 - \\sigma(D_\\omega(x)))]\n",
    "\\end{equation}\n",
    "\n",
    "Here, $p$ is the data distribution and $q$ is the generator distribution. $D_\\omega$ is the logit, which represents $\\log \\frac{p}{q}$. $\\sigma$ is the sigmoid function and therfore, $\\sigma(D_\\omega)$ represents $\\frac{p}{p+q}$."
   ]
  },
  {
   "cell_type": "code",
   "execution_count": 48,
   "id": "dcb39e76",
   "metadata": {},
   "outputs": [],
   "source": [
    "def get_data(num_samples=100, seed=0):\n",
    "    set_seed(seed)\n",
    "    return torch.randn([num_samples, 1])\n",
    "\n",
    "\n",
    "class DummyGen:\n",
    "    def sample(self, num_samples=100, seed=1):\n",
    "        set_seed(seed)\n",
    "        return torch.randn([num_samples, 1]) + 2\n",
    "\n",
    "\n",
    "class DummyDisc:\n",
    "    def classify(self, x, seed=0):\n",
    "        set_seed(seed)\n",
    "        return torch.rand([x.shape[0], ])"
   ]
  },
  {
   "cell_type": "code",
   "execution_count": 52,
   "id": "5154f650",
   "metadata": {},
   "outputs": [
    {
     "name": "stdout",
     "output_type": "stream",
     "text": [
      "Random seed 0 has been set.\n",
      "Random seed 1 has been set.\n",
      "Random seed 0 has been set.\n",
      "Random seed 0 has been set.\n"
     ]
    },
    {
     "data": {
      "image/png": "[encoded data removed]",
      "text/plain": [
       "<Figure size 700x700 with 1 Axes>"
      ]
     },
     "metadata": {},
     "output_type": "display_data"
    }
   ],
   "source": [
    "def loss_disc(disc, x_real, x_fake):\n",
    "    \"\"\"Compute the discriminator loss for `x_real` and `x_fake` given `disc`\n",
    "    Args:\n",
    "    disc: The discriminator\n",
    "    x_real (ndarray): An array of shape (N,) that contains the real samples\n",
    "    x_fake (ndarray): An array of shape (N,) that contains the fake samples\n",
    "    Returns:\n",
    "    ndarray: The discriminator loss\n",
    "    \"\"\"\n",
    "\n",
    "    # Loss for real data\n",
    "    label_real = 1\n",
    "    loss_real = label_real * torch.log(disc.classify(x_real))\n",
    "\n",
    "    # Loss for fake data\n",
    "    label_fake = 0\n",
    "    loss_fake = (1 - label_fake) * torch.log(1 - disc.classify(x_fake))\n",
    "\n",
    "    return torch.cat([loss_real, loss_fake])\n",
    "\n",
    "disc = DummyDisc()\n",
    "gen = DummyGen()\n",
    "\n",
    "x_real = get_data()\n",
    "x_fake = gen.sample()\n",
    "\n",
    "ld = loss_disc(disc, x_real, x_fake)\n",
    "plotting_ld(ld);"
   ]
  },
  {
   "cell_type": "markdown",
   "id": "2bfe7e1a",
   "metadata": {},
   "source": [
    "### Generator Loss"
   ]
  },
  {
   "cell_type": "code",
   "execution_count": 53,
   "id": "d4a8d991",
   "metadata": {},
   "outputs": [
    {
     "name": "stdout",
     "output_type": "stream",
     "text": [
      "Random seed 1 has been set.\n",
      "Random seed 0 has been set.\n"
     ]
    },
    {
     "data": {
      "image/png": "[encoded data removed]",
      "text/plain": [
       "<Figure size 700x700 with 1 Axes>"
      ]
     },
     "metadata": {},
     "output_type": "display_data"
    }
   ],
   "source": [
    "def loss_gen(disc, x_fake):\n",
    "    \"\"\"Compute the generator loss for `x_fake` given `disc`\n",
    "\n",
    "    Args:\n",
    "    disc: The generator\n",
    "    x_fake (ndarray): An array of shape (N,) that contains the fake samples\n",
    "\n",
    "    Returns:\n",
    "    ndarray: The generator loss\n",
    "    \"\"\"\n",
    "    # Loss for fake data\n",
    "    label_fake = 1\n",
    "    loss_fake = label_fake * torch.log(disc.classify(x_fake))\n",
    "\n",
    "    return loss_fake\n",
    "\n",
    "disc = DummyDisc()\n",
    "gen = DummyGen()\n",
    "\n",
    "x_fake = gen.sample()\n",
    "\n",
    "lg = loss_gen(disc, x_fake)\n",
    "plotting_lg(lg);"
   ]
  },
  {
   "cell_type": "markdown",
   "id": "10150ba9",
   "metadata": {},
   "source": [
    "## Failure Modes of GAN Training"
   ]
  },
  {
   "cell_type": "code",
   "execution_count": 54,
   "id": "6fe9b1e7",
   "metadata": {},
   "outputs": [
    {
     "data": {
      "text/html": [
       "\n",
       "        <iframe\n",
       "            width=\"900\"\n",
       "            height=\"600\"\n",
       "            src=\"https://xukai92.github.io/gan_demo/index.html\"\n",
       "            frameborder=\"0\"\n",
       "            allowfullscreen\n",
       "        ></iframe>\n",
       "        "
      ],
      "text/plain": [
       "<IPython.lib.display.IFrame at 0x7f9233f281c0>"
      ]
     },
     "execution_count": 54,
     "metadata": {},
     "output_type": "execute_result"
    }
   ],
   "source": [
    "from IPython.display import IFrame\n",
    "IFrame(src='https://xukai92.github.io/gan_demo/index.html', width=900, height=600)"
   ]
  },
  {
   "cell_type": "code",
   "execution_count": null,
   "id": "d83910d5",
   "metadata": {},
   "outputs": [],
   "source": []
  }
 ],
 "metadata": {
  "kernelspec": {
   "display_name": "nma",
   "language": "python",
   "name": "nma"
  },
  "language_info": {
   "codemirror_mode": {
    "name": "ipython",
    "version": 3
   },
   "file_extension": ".py",
   "mimetype": "text/x-python",
   "name": "python",
   "nbconvert_exporter": "python",
   "pygments_lexer": "ipython3",
   "version": "3.9.6"
  }
 },
 "nbformat": 4,
 "nbformat_minor": 5
}
