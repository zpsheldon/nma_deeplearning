{
 "cells": [
  {
   "cell_type": "markdown",
   "id": "c0c1d4c1",
   "metadata": {},
   "source": [
    "# Imports"
   ]
  },
  {
   "cell_type": "code",
   "execution_count": 30,
   "id": "8ef5bdce",
   "metadata": {},
   "outputs": [],
   "source": [
    "import torch\n",
    "import time\n",
    "import numpy as np\n",
    "from torch import nn\n",
    "from math import pi\n",
    "import matplotlib.pyplot as plt\n",
    "from mpl_toolkits.axes_grid1 import make_axes_locatable\n",
    "from ipywidgets import interact, IntSlider, FloatSlider, fixed\n",
    "from ipywidgets import HBox, interactive_output, ToggleButton, Layout"
   ]
  },
  {
   "cell_type": "markdown",
   "id": "c0662a0f",
   "metadata": {},
   "source": [
    "# Gradient Descent & AutoGrad"
   ]
  },
  {
   "cell_type": "markdown",
   "id": "04313871",
   "metadata": {},
   "source": [
    "Gradient Descent is an iterative algorithm for minimizing the function $f$, starting with an initial value for variables $\\mathbf{w}$, taking steps of size $\\eta$ (learning rate) in the direction of the negative gradient at the current point to update the variables $\\mathbf{w}$.\n",
    "\n",
    "\\begin{equation}\n",
    "\\mathbf{w}^{(t+1)} = \\mathbf{w}^{(t)} - \\eta \\nabla f (\\mathbf{w}^{(t)})\n",
    "\\end{equation}\n",
    "\n",
    "where $\\eta > 0$ and $\\nabla f (\\mathbf{w})= \\left( \\frac{\\partial f(\\mathbf{w})}{\\partial w_1}, ..., \\frac{\\partial f(\\mathbf{w})}{\\partial w_d} \\right)$. Since negative gradients always point locally in the direction of steepest descent, the algorithm makes small steps at each point **towards** the minimum."
   ]
  },
  {
   "cell_type": "markdown",
   "id": "0c1ca3d2",
   "metadata": {},
   "source": [
    "## Computational Graphs"
   ]
  },
  {
   "cell_type": "markdown",
   "id": "3c2ea181",
   "metadata": {},
   "source": [
    "Take this equation for example:\n",
    "\n",
    "\\begin{equation}\n",
    "f(x, y, z) = \\tanh \\left(\\ln \\left[1 + z \\frac{2x}{sin(y)} \\right] \\right)\n",
    "\\end{equation}\n",
    "\n",
    "We can build a computational graph to break the original function into smaller and more approachable expressions.\n",
    "\n",
    "<center><img src=\"https://raw.githubusercontent.com/NeuromatchAcademy/course-content-dl/main/tutorials/W1D2_LinearDeepLearning/static/comput_graph.png\" alt=\"Computation Graph\" width=\"700\"/></center>\n",
    "\n",
    "Starting from $x$, $y$, and $z$ and following the arrows and expressions, you would see that our graph returns the same function as $f$. It does so by calculating intermediate variables $a,b,c,d,$ and $e$. This is called the **forward pass**.\n",
    "\n",
    "Now, let’s start from $f$, and work our way against the arrows while calculating the gradient of each expression as we go. This is called the **backward pass**, from which the **backpropagation of errors** algorithm gets its name.\n",
    "\n",
    "<center><img src=\"https://raw.githubusercontent.com/NeuromatchAcademy/course-content-dl/main/tutorials/W1D2_LinearDeepLearning/static/comput_graph_full.png\" alt=\"Computation Graph full\" width=\"1200\"/></center>\n",
    "\n",
    "By breaking the computation into simple operations on intermediate variables, we can use the chain rule to calculate any gradient:\n",
    "\n",
    "\\begin{equation}\n",
    "\\dfrac{\\partial f}{\\partial x} = \\dfrac{\\partial f}{\\partial e}~\\dfrac{\\partial e}{\\partial d}~\\dfrac{\\partial d}{\\partial c}~\\dfrac{\\partial c}{\\partial a}~\\dfrac{\\partial a}{\\partial x} = \\left( 1-\\tanh^2(e) \\right) \\cdot \\frac{1}{d+1}\\cdot z \\cdot \\frac{1}{b} \\cdot 2\n",
    "\\end{equation}\n",
    "\n",
    "Conveniently, the values for $e$, $b$, and $d$ are available to us from when we did the forward pass through the graph. That is, the partial derivatives have simple expressions in terms of the intermediate variables $a,b,c,d,e$ that we calculated and stored during the forward pass.\n"
   ]
  },
  {
   "cell_type": "markdown",
   "id": "7057dc39",
   "metadata": {},
   "source": [
    "## PyTorch AutoGrad"
   ]
  },
  {
   "cell_type": "markdown",
   "id": "316ccd3d",
   "metadata": {},
   "source": [
    "In PyTorch, to indicate that a certain tensor contains learnable parameters, we can set the optional argument `requires_grad` to `True`. PyTorch will then track every operation using this tensor while configuring the computational graph. For this exercise, use the provided tensors to build the following graph, which implements a single neuron with scalar input and output.\n",
    "\n",
    "<br/>\n",
    "\n",
    "<center><img src=\"https://raw.githubusercontent.com/NeuromatchAcademy/course-content-dl/main/tutorials/W1D2_LinearDeepLearning/static/simple_graph.png\" alt=\"Simple nn graph\" width=\"600\"/></center>"
   ]
  },
  {
   "cell_type": "code",
   "execution_count": null,
   "id": "63c1724d",
   "metadata": {},
   "outputs": [],
   "source": [
    "class SimpleGraph:\n",
    "    def __init__(self, w, b):\n",
    "        \"\"\"Initializing the SimpleGraph\n",
    "\n",
    "        Args:\n",
    "          w (float): initial value for weight\n",
    "          b (float): initial value for bias\n",
    "        \"\"\"\n",
    "        assert isinstance(w, float)\n",
    "        assert isinstance(b, float)\n",
    "        self.w = torch.tensor([w], requires_grad=True)\n",
    "        self.b = torch.tensor([b], requires_grad=True)\n",
    "\n",
    "    def forward(self, x):\n",
    "        \"\"\"Forward pass\n",
    "\n",
    "        Args:\n",
    "          x (torch.Tensor): 1D tensor of features\n",
    "\n",
    "        Returns:\n",
    "          torch.Tensor: model predictions\n",
    "        \"\"\"\n",
    "        assert isinstance(x, torch.Tensor)\n",
    "        prediction = torch.tanh(x * self.w + self.b)\n",
    "        return prediction\n",
    "\n",
    "\n",
    "def sq_loss(y_true, y_prediction):\n",
    "    \"\"\"L2 loss function\n",
    "\n",
    "    Args:\n",
    "    y_true (torch.Tensor): 1D tensor of target labels\n",
    "    y_prediction (torch.Tensor): 1D tensor of predictions\n",
    "\n",
    "    Returns:\n",
    "    torch.Tensor: L2-loss (squared error)\n",
    "    \"\"\"\n",
    "    assert isinstance(y_true, torch.Tensor)\n",
    "    assert isinstance(y_prediction, torch.Tensor)\n",
    "    loss = (y_true - y_prediction)**2\n",
    "    return loss\n",
    "\n",
    "\n",
    "feature = torch.tensor([1])  # input tensor\n",
    "target = torch.tensor([7])  # target tensor\n",
    "\n",
    "# run graph\n",
    "simple_graph = SimpleGraph(-0.5, 0.5)\n",
    "print(f\"initial weight = {simple_graph.w.item()}, \"\n",
    "      f\"\\ninitial bias = {simple_graph.b.item()}\")\n",
    "prediction = simple_graph.forward(feature)\n",
    "square_loss = sq_loss(target, prediction)\n",
    "print(f\"for x={feature.item()} and y={target.item()}, \"\n",
    "      f\"prediction={prediction.item()}, and L2 Loss = {square_loss.item()}\")"
   ]
  },
  {
   "cell_type": "markdown",
   "id": "e28dccf9",
   "metadata": {},
   "source": [
    "## Pytorch Neural Net Module"
   ]
  },
  {
   "cell_type": "markdown",
   "id": "9b663383",
   "metadata": {},
   "source": [
    "PyTorch provides us with ready-to-use neural network building blocks, such as layers (e.g. linear, recurrent, ...), different activation and loss functions, and much more, packed in the [`torch.nn`](https://pytorch.org/docs/stable/nn.html) module. If we build a neural network using `torch.nn` layers, the weights and biases are already in `requires_grad` mode and will be registered as model parameters. \n",
    "\n",
    "For training, we need three things:\n",
    "\n",
    "*   **Model parameters** - Model parameters refer to all the learnable parameters of the model, which are accessible by calling `.parameters()` on the model. Please note that NOT all the `requires_grad` tensors are seen as model parameters. To create a custom model parameter, we can use [`nn.Parameter`](https://pytorch.org/docs/stable/generated/torch.nn.parameter.Parameter.html) (*A kind of Tensor that is to be considered a module parameter*).\n",
    "\n",
    "*   **Loss function** - The loss that we are going to be optimizing, which is often combined with regularization terms.\n",
    "\n",
    "*   **Optimizer** - PyTorch provides us with many optimization methods (different versions of gradient descent). Optimizer holds the current state of the model and by calling the `step()` method, will update the parameters based on the computed gradients."
   ]
  },
  {
   "cell_type": "code",
   "execution_count": 11,
   "id": "a7eb9169",
   "metadata": {},
   "outputs": [
    {
     "data": {
      "image/png": "[encoded data removed]",
      "text/plain": [
       "<Figure size 576x360 with 1 Axes>"
      ]
     },
     "metadata": {
      "needs_background": "light"
     },
     "output_type": "display_data"
    }
   ],
   "source": [
    "# generate sample dataset\n",
    "n_samples = 32\n",
    "inputs = torch.linspace(-1.0, 1.0, n_samples).reshape(n_samples, 1)\n",
    "noise = torch.randn(n_samples, 1) / 4\n",
    "targets = torch.sin(pi * inputs) + noise\n",
    "plt.figure(figsize=(8, 5))\n",
    "plt.scatter(inputs, targets, c='c')\n",
    "plt.xlabel('x (inputs)')\n",
    "plt.ylabel('y (targets)')\n",
    "plt.show()"
   ]
  },
  {
   "cell_type": "code",
   "execution_count": 12,
   "id": "ef7861a6",
   "metadata": {},
   "outputs": [],
   "source": [
    "## A Wide neural network with a single hidden layer\n",
    "class WideNet(nn.Module):\n",
    "\n",
    "    def __init__(self):\n",
    "        \"\"\"Initializing the WideNet\n",
    "        \"\"\"\n",
    "        n_cells = 512\n",
    "        super().__init__()\n",
    "        self.layers = nn.Sequential(\n",
    "            nn.Linear(1, n_cells),\n",
    "            nn.Tanh(),\n",
    "            nn.Linear(n_cells, 1),\n",
    "        )\n",
    "\n",
    "    def forward(self, x):\n",
    "        \"\"\"Forward pass\n",
    "\n",
    "        Args:\n",
    "          x (torch.Tensor): 2D tensor of features\n",
    "\n",
    "        Returns:\n",
    "          torch.Tensor: model predictions\n",
    "        \"\"\"\n",
    "        return self.layers(x)"
   ]
  },
  {
   "cell_type": "code",
   "execution_count": 18,
   "id": "6b79ad9d",
   "metadata": {},
   "outputs": [],
   "source": [
    "# helper function for plotting\n",
    "def ex3_plot(model, x, y, ep, lss):\n",
    "    f, (ax1, ax2) = plt.subplots(1, 2, figsize=(12, 4))\n",
    "    ax1.set_title(\"Regression\")\n",
    "    ax1.plot(x, model(x).detach().numpy(), color='r', label='prediction')\n",
    "    ax1.scatter(x, y, c='c', label='targets')\n",
    "    ax1.set_xlabel('x')\n",
    "    ax1.set_ylabel('y')\n",
    "    ax1.legend()\n",
    "\n",
    "    ax2.set_title(\"Training loss\")\n",
    "    ax2.plot(np.linspace(1, epochs, epochs), losses, color='y')\n",
    "    ax2.set_xlabel(\"Epoch\")\n",
    "    ax2.set_ylabel(\"MSE\")\n",
    "\n",
    "    plt.show()"
   ]
  },
  {
   "cell_type": "code",
   "execution_count": 16,
   "id": "7cb1f117",
   "metadata": {},
   "outputs": [
    {
     "data": {
      "image/png": "[encoded data removed]",
      "text/plain": [
       "<Figure size 864x288 with 2 Axes>"
      ]
     },
     "metadata": {
      "needs_background": "light"
     },
     "output_type": "display_data"
    }
   ],
   "source": [
    "def train(features, labels, model, loss_fun, optimizer, n_epochs):\n",
    "    \"\"\"Training function\n",
    "\n",
    "    Args:\n",
    "    features (torch.Tensor): features (input) with shape torch.Size([n_samples, 1])\n",
    "    labels (torch.Tensor): labels (targets) with shape torch.Size([n_samples, 1])\n",
    "    model (torch nn.Module): the neural network\n",
    "    loss_fun (function): loss function\n",
    "    optimizer(function): optimizer\n",
    "    n_epochs (int): number of training iterations\n",
    "\n",
    "    Returns:\n",
    "    list: record (evolution) of training losses\n",
    "    \"\"\"\n",
    "    loss_record = []  # keeping recods of loss\n",
    "\n",
    "    for i in range(n_epochs):\n",
    "        optimizer.zero_grad()  # set gradients to 0\n",
    "        predictions = model(features)  # Compute model prediction (output)\n",
    "        loss = loss_fun(predictions, labels)  # Compute the loss\n",
    "        loss.backward()  # Compute gradients (backward pass)\n",
    "        optimizer.step()  # update parameters (optimizer takes a step)\n",
    "\n",
    "        loss_record.append(loss.item())\n",
    "    return loss_record\n",
    "\n",
    "# Create an instance of the neural net\n",
    "wide_net = WideNet()\n",
    "# Create a mse loss function\n",
    "loss_function = nn.MSELoss()\n",
    "# Stochastic Gradient Descent optimizer\n",
    "lr = 0.003  # learning rate\n",
    "sgd_optimizer = torch.optim.SGD(wide_net.parameters(), lr=lr, momentum=0.9)\n",
    "epochs = 1847 # Cauchy, Exercices d'analyse et de physique mathematique (1847)\n",
    "losses = train(inputs, targets, wide_net, loss_function, sgd_optimizer, epochs)\n",
    "ex3_plot(wide_net, inputs, targets, epochs, losses)"
   ]
  },
  {
   "cell_type": "markdown",
   "id": "a6a6c057",
   "metadata": {},
   "source": [
    "# Learning Hyperparameters"
   ]
  },
  {
   "cell_type": "markdown",
   "id": "6bc946bc",
   "metadata": {},
   "source": [
    "## Simple narrow linear neural network"
   ]
  },
  {
   "cell_type": "markdown",
   "id": "70933960",
   "metadata": {},
   "source": [
    "To better understand the behavior of neural network training with gradient descent, we start with the incredibly simple case of a shallow narrow linear neural net, since state-of-the-art models are impossible to dissect and comprehend with our current mathematical tools.\n",
    "\n",
    "The model we use has one hidden layer, with only one neuron, and two weights. We consider the squared error (or L2 loss) as the cost function. As you may have already guessed, we can visualize the model as a neural network:\n",
    "\n",
    "<center><img src=\"https://raw.githubusercontent.com/NeuromatchAcademy/course-content-dl/main/tutorials/W1D2_LinearDeepLearning/static/shallow_narrow_nn.png\" width=\"400\"/></center>\n",
    "\n",
    "<br/>\n",
    "\n",
    "or by its computation graph:\n",
    "\n",
    "<center><img src=\"https://raw.githubusercontent.com/NeuromatchAcademy/course-content-dl/main/tutorials/W1D2_LinearDeepLearning/static/shallow_narrow.png\" alt=\"Shallow Narrow Graph\" width=\"400\"/></center>"
   ]
  },
  {
   "cell_type": "code",
   "execution_count": 19,
   "id": "e95efec7",
   "metadata": {},
   "outputs": [],
   "source": [
    "# helper plotting function\n",
    "def plot_x_y_(x_t_, y_t_, x_ev_, y_ev_, loss_log_, weight_log_):\n",
    "    plt.figure(figsize=(12, 4))\n",
    "    plt.subplot(1, 3, 1)\n",
    "    plt.scatter(x_t_, y_t_, c='r', label='training data')\n",
    "    plt.plot(x_ev_, y_ev_, c='b', label='test results', linewidth=2)\n",
    "    plt.xlabel('x')\n",
    "    plt.ylabel('y')\n",
    "    plt.legend()\n",
    "    plt.subplot(1, 3, 2)\n",
    "    plt.plot(loss_log_, c='r')\n",
    "    plt.xlabel('epochs')\n",
    "    plt.ylabel('mean squared error')\n",
    "    plt.subplot(1, 3, 3)\n",
    "    plt.plot(weight_log_)\n",
    "    plt.xlabel('epochs')\n",
    "    plt.ylabel('weights')\n",
    "    plt.show()"
   ]
  },
  {
   "cell_type": "code",
   "execution_count": null,
   "id": "8c3109d4",
   "metadata": {},
   "outputs": [],
   "source": [
    "class ShallowNarrowExercise:\n",
    "    \"\"\"Shallow and narrow (one neuron per layer) linear neural network\n",
    "    \"\"\"\n",
    "    def __init__(self, init_weights):\n",
    "        \"\"\"\n",
    "        Args:\n",
    "          init_weights (list): initial weights\n",
    "        \"\"\"\n",
    "        assert isinstance(init_weights, (list, np.ndarray, tuple))\n",
    "        assert len(init_weights) == 2\n",
    "        self.w1 = init_weights[0]\n",
    "        self.w2 = init_weights[1]\n",
    "\n",
    "\n",
    "    def forward(self, x):\n",
    "        \"\"\"The forward pass through netwrok y = x * w1 * w2\n",
    "\n",
    "        Args:\n",
    "          x (np.ndarray): features (inputs) to neural net\n",
    "\n",
    "        returns:\n",
    "          (np.ndarray): neural network output (prediction)\n",
    "        \"\"\"\n",
    "        y = x * self.w1 * self.w2\n",
    "        return y\n",
    "\n",
    "\n",
    "    def dloss_dw(self, x, y_true):\n",
    "        \"\"\"Gradient of loss with respect to weights\n",
    "\n",
    "        Args:\n",
    "          x (np.ndarray): features (inputs) to neural net\n",
    "          y_true (np.ndarray): true labels\n",
    "\n",
    "        returns:\n",
    "          (float): mean gradient of loss with respect to w1\n",
    "          (float): mean gradient of loss with respect to w2\n",
    "        \"\"\"\n",
    "        assert x.shape == y_true.shape\n",
    "        dloss_dw1 = - (2 * self.w2 * x * (y_true - self.w1 * self.w2 * x)).mean()\n",
    "        dloss_dw2 = - (2 * self.w1 * x * (y_true - self.w1 * self.w2 * x)).mean()\n",
    "        return dloss_dw1, dloss_dw2\n",
    "\n",
    "\n",
    "    def train(self, x, y_true, lr, n_ep):\n",
    "        \"\"\"Training with Gradient descent algorithm\n",
    "\n",
    "        Args:\n",
    "          x (np.ndarray): features (inputs) to neural net\n",
    "          y_true (np.ndarray): true labels\n",
    "          lr (float): learning rate\n",
    "          n_ep (int): number of epochs (training iterations)\n",
    "\n",
    "        returns:\n",
    "          (list): training loss records\n",
    "          (list): training weight records (evolution of weights)\n",
    "        \"\"\"\n",
    "        assert x.shape == y_true.shape\n",
    "\n",
    "        loss_records = np.empty(n_ep)  # pre allocation of loss records\n",
    "        weight_records = np.empty((n_ep, 2))  # pre allocation of weight records\n",
    "\n",
    "        for i in range(n_ep):\n",
    "            y_prediction = self.forward(x)\n",
    "            loss_records[i] = loss(y_prediction, y_true)\n",
    "            dloss_dw1, dloss_dw2 = self.dloss_dw(x, y_true)\n",
    "            self.w1 -= lr * dloss_dw1\n",
    "            self.w2 -= lr * dloss_dw2\n",
    "            weight_records[i] = [self.w1, self.w2]\n",
    "\n",
    "        return loss_records, weight_records\n",
    "\n",
    "\n",
    "def loss(y_prediction, y_true):\n",
    "    \"\"\"Mean squared error\n",
    "\n",
    "    Args:\n",
    "    y_prediction (np.ndarray): model output (prediction)\n",
    "    y_true (np.ndarray): true label\n",
    "\n",
    "    returns:\n",
    "    (np.ndarray): mean squared error loss\n",
    "    \"\"\"\n",
    "    assert y_prediction.shape == y_true.shape\n",
    "    mse = ((y_true - y_prediction)**2).mean()\n",
    "    return mse\n",
    "\n",
    "n_epochs = 211\n",
    "learning_rate = 0.02\n",
    "initial_weights = [1.4, -1.6]\n",
    "x_train, y_train = gen_samples(n=73, a=2.0, sigma=0.2)\n",
    "x_eval = np.linspace(0.0, 1.0, 37, endpoint=True)\n",
    "sn_model = ShallowNarrowExercise(initial_weights)\n",
    "loss_log, weight_log = sn_model.train(x_train, y_train, learning_rate, n_epochs)\n",
    "y_eval = sn_model.forward(x_eval)\n",
    "plot_x_y_(x_train, y_train, x_eval, y_eval, loss_log, weight_log)"
   ]
  },
  {
   "cell_type": "markdown",
   "id": "4ae6622a",
   "metadata": {},
   "source": [
    "## Depth, learning rate, and initialization"
   ]
  },
  {
   "cell_type": "markdown",
   "id": "2b106ee7",
   "metadata": {},
   "source": [
    "### helper plotting functions"
   ]
  },
  {
   "cell_type": "code",
   "execution_count": 33,
   "id": "65ffcf60",
   "metadata": {},
   "outputs": [],
   "source": [
    "def gen_samples(n, a, sigma):\n",
    "    \"\"\"\n",
    "    Generates `n` samples with `y = z * x + noise(sgma)` linear relation.\n",
    "\n",
    "    Args:\n",
    "    n : int\n",
    "    a : float\n",
    "    sigma : float\n",
    "    Retutns:\n",
    "    x : np.array\n",
    "    y : np.array\n",
    "    \"\"\"\n",
    "    assert n > 0\n",
    "    assert sigma >= 0\n",
    "\n",
    "    if sigma > 0:\n",
    "        x = np.random.rand(n)\n",
    "        noise = np.random.normal(scale=sigma, size=(n))\n",
    "        y = a * x + noise\n",
    "    else:\n",
    "        x = np.linspace(0.0, 1.0, n, endpoint=True)\n",
    "        y = a * x\n",
    "    return x, y\n",
    "\n",
    "class ShallowNarrowLNN:\n",
    "    \"\"\"\n",
    "    Shallow and narrow (one neuron per layer) linear neural network\n",
    "    \"\"\"\n",
    "    def __init__(self, init_ws):\n",
    "        \"\"\"\n",
    "        init_ws: initial weights as a list\n",
    "        \"\"\"\n",
    "        assert isinstance(init_ws, list)\n",
    "        assert len(init_ws) == 2\n",
    "        self.w1 = init_ws[0]\n",
    "        self.w2 = init_ws[1]\n",
    "\n",
    "    def forward(self, x):\n",
    "        \"\"\"\n",
    "        The forward pass through netwrok y = x * w1 * w2\n",
    "        \"\"\"\n",
    "        y = x * self.w1 * self.w2\n",
    "        return y\n",
    "\n",
    "    def loss(self, y_p, y_t):\n",
    "        \"\"\"\n",
    "        Mean squared error (L2) with 1/2 for convenience\n",
    "        \"\"\"\n",
    "        assert y_p.shape == y_t.shape\n",
    "        mse = ((y_t - y_p)**2).mean()\n",
    "        return mse\n",
    "\n",
    "    def dloss_dw(self, x, y_t):\n",
    "        \"\"\"\n",
    "        partial derivative of loss with respect to weights\n",
    "\n",
    "        Args:\n",
    "          x : np.array\n",
    "          y_t : np.array\n",
    "        \"\"\"\n",
    "        assert x.shape == y_t.shape\n",
    "        Error = y_t - self.w1 * self.w2 * x\n",
    "        dloss_dw1 = - (2 * self.w2 * x * Error).mean()\n",
    "        dloss_dw2 = - (2 * self.w1 * x * Error).mean()\n",
    "        return dloss_dw1, dloss_dw2\n",
    "\n",
    "    def train(self, x, y_t, eta, n_ep):\n",
    "        \"\"\"\n",
    "        Gradient descent algorithm\n",
    "\n",
    "        Args:\n",
    "          x : np.array\n",
    "          y_t : np.array\n",
    "          eta: float\n",
    "          n_ep : int\n",
    "        \"\"\"\n",
    "        assert x.shape == y_t.shape\n",
    "\n",
    "        loss_records = np.empty(n_ep)  # pre allocation of loss records\n",
    "        weight_records = np.empty((n_ep, 2))  # pre allocation of weight records\n",
    "\n",
    "        for i in range(n_ep):\n",
    "            y_p = self.forward(x)\n",
    "            loss_records[i] = self.loss(y_p, y_t)\n",
    "            dloss_dw1, dloss_dw2 = self.dloss_dw(x, y_t)\n",
    "            self.w1 -= eta * dloss_dw1\n",
    "            self.w2 -= eta * dloss_dw2\n",
    "            weight_records[i] = [self.w1, self.w2]\n",
    "\n",
    "        return loss_records, weight_records\n",
    "\n",
    "\n",
    "class DeepNarrowLNN:\n",
    "    \"\"\"\n",
    "    Deep but thin (one neuron per layer) linear neural network\n",
    "    \"\"\"\n",
    "    def __init__(self, init_ws):\n",
    "        \"\"\"\n",
    "        init_ws: initial weights as a numpy array\n",
    "        \"\"\"\n",
    "        self.n = init_ws.size\n",
    "        self.W = init_ws.reshape(1, -1)\n",
    "\n",
    "    def forward(self, x):\n",
    "        \"\"\"\n",
    "        x : np.array\n",
    "          input features\n",
    "        \"\"\"\n",
    "        y = np.prod(self.W) * x\n",
    "        return y\n",
    "\n",
    "    def loss(self, y_t, y_p):\n",
    "        \"\"\"\n",
    "        mean squared error (L2 loss)\n",
    "\n",
    "        Args:\n",
    "          y_t : np.array\n",
    "          y_p : np.array\n",
    "        \"\"\"\n",
    "        assert y_p.shape == y_t.shape\n",
    "        mse = ((y_t - y_p)**2 / 2).mean()\n",
    "        return mse\n",
    "\n",
    "    def dloss_dw(self, x, y_t, y_p):\n",
    "        \"\"\"\n",
    "        analytical gradient of weights\n",
    "\n",
    "        Args:\n",
    "          x : np.array\n",
    "          y_t : np.array\n",
    "          y_p : np.array\n",
    "        \"\"\"\n",
    "        E = y_t - y_p  # = y_t - x * np.prod(self.W)\n",
    "        Ex = np.multiply(x, E).mean()\n",
    "        Wp = np.prod(self.W) / (self.W + 1e-9)\n",
    "        dW = - Ex * Wp\n",
    "        return dW\n",
    "\n",
    "    def train(self, x, y_t, eta, n_epochs):\n",
    "        \"\"\"\n",
    "        training using gradient descent\n",
    "\n",
    "        Args:\n",
    "          x : np.array\n",
    "          y_t : np.array\n",
    "          eta: float\n",
    "          n_epochs : int\n",
    "        \"\"\"\n",
    "        loss_records = np.empty(n_epochs)\n",
    "        loss_records[:] = np.nan\n",
    "        for i in range(n_epochs):\n",
    "            y_p = self.forward(x)\n",
    "            loss_records[i] = self.loss(y_t, y_p).mean()\n",
    "            dloss_dw = self.dloss_dw(x, y_t, y_p)\n",
    "            if np.isnan(dloss_dw).any() or np.isinf(dloss_dw).any():\n",
    "                return loss_records\n",
    "            self.W -= eta * dloss_dw\n",
    "        return loss_records\n",
    "\n",
    "def lr_widget(lr):\n",
    "    depth_lr_init_interplay(50, lr, 0.9)\n",
    "\n",
    "def depth_lr_interplay(depth, lr):\n",
    "    depth_lr_init_interplay(depth, lr, 0.9)\n",
    "\n",
    "def depth_lr_init_interplay(depth, lr, init_weights):\n",
    "    n_epochs = 600\n",
    "\n",
    "    x_train, y_train = gen_samples(100, 2.0, 0.1)\n",
    "    model = DeepNarrowLNN(np.full((1, depth+1), init_weights))\n",
    "\n",
    "    plt.figure(figsize=(10, 5))\n",
    "    plt.plot(model.train(x_train, y_train, lr, n_epochs),\n",
    "            linewidth=3.0, c='m')\n",
    "\n",
    "    plt.title(\"Training a {}-layer LNN with\"\n",
    "    \" $\\eta=${} initialized with $w_i=${}\".format(depth, lr, init_weights), pad=15)\n",
    "    plt.yscale('log')\n",
    "    plt.xlabel('epochs')\n",
    "    plt.ylabel('Log mean squared error')\n",
    "    plt.ylim(0.001, 1.0)\n",
    "    plt.show()\n",
    "    \n",
    "def plot_init_effect():\n",
    "    depth = 15\n",
    "    n_epochs = 250\n",
    "    lr = 0.02\n",
    "\n",
    "    x_train, y_train = gen_samples(100, 2.0, 0.1)\n",
    "\n",
    "    plt.figure(figsize=(12, 6))\n",
    "    for init_w in np.arange(0.7, 1.09, 0.05):\n",
    "      model = DeepNarrowLNN(np.full((1, depth), init_w))\n",
    "      plt.plot(model.train(x_train, y_train, lr, n_epochs),\n",
    "              linewidth=3.0, label=\"initial weights {:.2f}\".format(init_w))\n",
    "    plt.title(\"Training a {}-layer narrow LNN with $\\eta=${}\".format(depth, lr), pad=15)\n",
    "    plt.yscale('log')\n",
    "    plt.xlabel('epochs')\n",
    "    plt.ylabel('Log mean squared error')\n",
    "    plt.legend(loc='lower left', ncol=4)\n",
    "    plt.ylim(0.001, 1.0)\n",
    "    plt.show()\n",
    "\n",
    "def depth_widget(depth):\n",
    "    if depth == 0:\n",
    "        depth_lr_init_interplay(depth, 0.02, 0.9)\n",
    "    else:\n",
    "        depth_lr_init_interplay(depth, 0.01, 0.9)\n",
    "        \n",
    "class InterPlay:\n",
    "    def __init__(self):\n",
    "        self.lr = [None]\n",
    "        self.depth = [None]\n",
    "        self.success = [None]\n",
    "        self.min_depth, self.max_depth = 5, 65\n",
    "        self.depth_list = np.arange(10, 61, 10)\n",
    "        self.i_depth = 0\n",
    "        self.min_lr, self.max_lr = 0.001, 0.105\n",
    "        self.n_epochs = 600\n",
    "        self.x_train, self.y_train = gen_samples(100, 2.0, 0.1)\n",
    "        self.converged = False\n",
    "        self.button = None\n",
    "        self.slider = None\n",
    "\n",
    "    def train(self, lr, update=False, init_weights=0.9):\n",
    "        if update and self.converged and self.i_depth < len(self.depth_list):\n",
    "            depth = self.depth_list[self.i_depth]\n",
    "            self.plot(depth, lr)\n",
    "            self.i_depth += 1\n",
    "            self.lr.append(None)\n",
    "            self.depth.append(None)\n",
    "            self.success.append(None)\n",
    "            self.converged = False\n",
    "            self.slider.value = 0.005\n",
    "            if self.i_depth < len(self.depth_list):\n",
    "                self.button.value = False\n",
    "                self.button.description = 'Explore!'\n",
    "                self.button.disabled = True\n",
    "                self.button.button_style = 'danger'\n",
    "            else:\n",
    "                self.button.value = False\n",
    "                self.button.button_style = ''\n",
    "                self.button.disabled = True\n",
    "                self.button.description = 'Done!'\n",
    "            time.sleep(1.0)\n",
    "        elif self.i_depth < len(self.depth_list):\n",
    "            depth = self.depth_list[self.i_depth]\n",
    "            # assert self.min_depth <= depth <= self.max_depth\n",
    "            assert self.min_lr <= lr <= self.max_lr\n",
    "            self.converged = False\n",
    "\n",
    "            model = DeepNarrowLNN(np.full((1, depth), init_weights))\n",
    "            self.losses = np.array(model.train(self.x_train, self.y_train, lr, self.n_epochs))\n",
    "            if np.any(self.losses < 1e-2):\n",
    "                success = np.argwhere(self.losses < 1e-2)[0][0]\n",
    "                if np.all((self.losses[success:] < 1e-2)):\n",
    "                    self.converged = True\n",
    "                    self.success[-1] = success\n",
    "                    self.lr[-1] = lr\n",
    "                    self.depth[-1] = depth\n",
    "                    self.button.disabled = False\n",
    "                    self.button.button_style = 'success'\n",
    "                    self.button.description = 'Register!'\n",
    "                else:\n",
    "                    self.button.disabled = True\n",
    "                    self.button.button_style = 'danger'\n",
    "                    self.button.description = 'Explore!'\n",
    "            else:\n",
    "                self.button.disabled = True\n",
    "                self.button.button_style = 'danger'\n",
    "                self.button.description = 'Explore!'\n",
    "            self.plot(depth, lr)\n",
    "\n",
    "    def plot(self, depth, lr):\n",
    "        fig = plt.figure(constrained_layout=False, figsize=(10, 8))\n",
    "        gs = fig.add_gridspec(2, 2)\n",
    "        ax1 = fig.add_subplot(gs[0, :])\n",
    "        ax2 = fig.add_subplot(gs[1, 0])\n",
    "        ax3 = fig.add_subplot(gs[1, 1])\n",
    "\n",
    "        ax1.plot(self.losses, linewidth=3.0, c='m')\n",
    "        ax1.set_title(\"Training a {}-layer LNN with\"\n",
    "        \" $\\eta=${}\".format(depth, lr), pad=15, fontsize=16)\n",
    "        ax1.set_yscale('log')\n",
    "        ax1.set_xlabel('epochs')\n",
    "        ax1.set_ylabel('Log mean squared error')\n",
    "        ax1.set_ylim(0.001, 1.0)\n",
    "\n",
    "        ax2.set_xlim(self.min_depth, self.max_depth)\n",
    "        ax2.set_ylim(-10, self.n_epochs)\n",
    "        ax2.set_xlabel('Depth')\n",
    "        ax2.set_ylabel('Learning time (Epochs)')\n",
    "        ax2.set_title(\"Learning time vs depth\", fontsize=14)\n",
    "        ax2.scatter(np.array(self.depth), np.array(self.success), c='r')\n",
    "\n",
    "        # ax3.set_yscale('log')\n",
    "        ax3.set_xlim(self.min_depth, self.max_depth)\n",
    "        ax3.set_ylim(self.min_lr, self.max_lr)\n",
    "        ax3.set_xlabel('Depth')\n",
    "        ax3.set_ylabel('Optimial learning rate')\n",
    "        ax3.set_title(\"Empirically optimal $\\eta$ vs depth\", fontsize=14)\n",
    "        ax3.scatter(np.array(self.depth), np.array(self.lr), c='r')\n",
    "\n",
    "        plt.show()"
   ]
  },
  {
   "cell_type": "markdown",
   "id": "267c3769",
   "metadata": {},
   "source": [
    "### Depth"
   ]
  },
  {
   "cell_type": "markdown",
   "id": "17484823",
   "metadata": {},
   "source": [
    "Let's look at the challenges that depth poses in training a neural network. Imagine a single input, single output linear network with 50 hidden layers and only one neuron per layer (i.e. a narrow deep neural network). The output of the network is easy to calculate:\n",
    "\n",
    "$$ prediction = x \\cdot w_1 \\cdot w_2 \\cdot \\cdot \\cdot w_{50} $$\n",
    "\n",
    "If the initial value for all the weights is $w_i = 2$, the prediction for $x=1$ would be **exploding**: $y_p = 2^{50} \\approx 1.1256 \\times 10^{15}$. On the other hand, for weights initialized to $w_i = 0.5$, the output is **vanishing**: $y_p = 0.5^{50} \\approx 8.88 \\times 10^{-16}$. Similarly, if we recall the chain rule, as the graph gets deeper, the number of elements in the chain multiplication increases, which could lead to exploding or vanishing gradients. To avoid such numerical vulnerablities that could impair our training algorithm, we need to understand the effect of depth.\n"
   ]
  },
  {
   "cell_type": "code",
   "execution_count": 25,
   "id": "e51e7eed",
   "metadata": {},
   "outputs": [
    {
     "data": {
      "application/vnd.jupyter.widget-view+json": {
       "model_id": "ce24ee5b83a24f6d84d268cecf9142f3",
       "version_major": 2,
       "version_minor": 0
      },
      "text/plain": [
       "interactive(children=(IntSlider(value=0, continuous_update=False, description='depth', max=51, step=5), Output…"
      ]
     },
     "metadata": {},
     "output_type": "display_data"
    }
   ],
   "source": [
    "_ = interact(depth_widget,\n",
    "    depth = IntSlider(min=0, max=51,\n",
    "                      step=5, value=0,\n",
    "                      continuous_update=False))"
   ]
  },
  {
   "cell_type": "markdown",
   "id": "d14bc163",
   "metadata": {},
   "source": [
    "### Learning rate"
   ]
  },
  {
   "cell_type": "code",
   "execution_count": 26,
   "id": "4d2c3b9d",
   "metadata": {},
   "outputs": [
    {
     "data": {
      "application/vnd.jupyter.widget-view+json": {
       "model_id": "64ad1701df0345c7917479442bf945b7",
       "version_major": 2,
       "version_minor": 0
      },
      "text/plain": [
       "interactive(children=(FloatSlider(value=0.005, continuous_update=False, description='eta', max=0.045, min=0.00…"
      ]
     },
     "metadata": {},
     "output_type": "display_data"
    }
   ],
   "source": [
    "_ = interact(lr_widget,\n",
    "    lr = FloatSlider(min=0.005, max=0.045, step=0.005, value=0.005,\n",
    "                     continuous_update=False, readout_format='.3f',\n",
    "                     description='eta'))"
   ]
  },
  {
   "cell_type": "markdown",
   "id": "3940c6e6",
   "metadata": {},
   "source": [
    "### Depth vs. learning rate"
   ]
  },
  {
   "cell_type": "code",
   "execution_count": 34,
   "id": "e89c4416",
   "metadata": {},
   "outputs": [
    {
     "data": {
      "application/vnd.jupyter.widget-view+json": {
       "model_id": "6ac273eb65fc45c19b632f74697f6f21",
       "version_major": 2,
       "version_minor": 0
      },
      "text/plain": [
       "HBox(children=(FloatSlider(value=0.005, continuous_update=False, description='eta', layout=Layout(width='500px…"
      ]
     },
     "metadata": {},
     "output_type": "display_data"
    },
    {
     "data": {
      "application/vnd.jupyter.widget-view+json": {
       "model_id": "a27b736438b84c5cbc3eae668f012db6",
       "version_major": 2,
       "version_minor": 0
      },
      "text/plain": [
       "Output()"
      ]
     },
     "metadata": {},
     "output_type": "display_data"
    }
   ],
   "source": [
    "intpl_obj = InterPlay()\n",
    "\n",
    "intpl_obj.slider = FloatSlider(min=0.005, max=0.105, step=0.005, value=0.005,\n",
    "                               layout=Layout(width='500px'),\n",
    "                               continuous_update=False,\n",
    "                               readout_format='.3f',\n",
    "                               description='eta')\n",
    "\n",
    "intpl_obj.button = ToggleButton(value=intpl_obj.converged, description='Register')\n",
    "\n",
    "widgets_ui = HBox([intpl_obj.slider, intpl_obj.button])\n",
    "widgets_out = interactive_output(intpl_obj.train,\n",
    "                                 {'lr': intpl_obj.slider,\n",
    "                                  'update': intpl_obj.button,\n",
    "                                  'init_weights': fixed(0.9)})\n",
    "\n",
    "display(widgets_ui, widgets_out)"
   ]
  },
  {
   "cell_type": "markdown",
   "id": "0bef1ac4",
   "metadata": {},
   "source": [
    "### Initialization"
   ]
  },
  {
   "cell_type": "code",
   "execution_count": 35,
   "id": "115d2ea6",
   "metadata": {},
   "outputs": [
    {
     "data": {
      "image/png": "[encoded data removed]",
      "text/plain": [
       "<Figure size 864x432 with 1 Axes>"
      ]
     },
     "metadata": {
      "needs_background": "light"
     },
     "output_type": "display_data"
    }
   ],
   "source": [
    "plot_init_effect()"
   ]
  },
  {
   "cell_type": "code",
   "execution_count": null,
   "id": "994440a0",
   "metadata": {},
   "outputs": [],
   "source": []
  }
 ],
 "metadata": {
  "kernelspec": {
   "display_name": "nma",
   "language": "python",
   "name": "nma"
  },
  "language_info": {
   "codemirror_mode": {
    "name": "ipython",
    "version": 3
   },
   "file_extension": ".py",
   "mimetype": "text/x-python",
   "name": "python",
   "nbconvert_exporter": "python",
   "pygments_lexer": "ipython3",
   "version": "3.9.6"
  }
 },
 "nbformat": 4,
 "nbformat_minor": 5
}
