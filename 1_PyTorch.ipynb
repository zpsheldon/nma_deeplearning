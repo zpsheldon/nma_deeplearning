{
 "cells": [
  {
   "cell_type": "markdown",
   "id": "9b33da99",
   "metadata": {},
   "source": [
    "# Imports"
   ]
  },
  {
   "cell_type": "code",
   "execution_count": 47,
   "id": "fb3ceee1",
   "metadata": {},
   "outputs": [],
   "source": [
    "import torch\n",
    "import random\n",
    "import numpy as np\n",
    "import pandas as pd\n",
    "import matplotlib.pyplot as plt\n",
    "from sklearn.datasets import make_moons\n",
    "from pathlib import Path\n",
    "\n",
    "from torch import nn\n",
    "from torchvision import datasets\n",
    "from torchvision.transforms import ToTensor\n",
    "from torch.utils.data import DataLoader\n",
    "from torchvision.transforms import Compose, Grayscale"
   ]
  },
  {
   "cell_type": "markdown",
   "id": "59cc283e",
   "metadata": {},
   "source": [
    "# Basics of PyTorch\n",
    "- Very similar to NumPy, but more custom-built for use in deep learning and includes easy use of GPU's as well as an enginge for automatically computing derivatives\n",
    "- 'Arrays' are now called 'Tensors'... very cool"
   ]
  },
  {
   "cell_type": "markdown",
   "id": "695e30ea",
   "metadata": {},
   "source": [
    "## Creating and Manipulating Tensors"
   ]
  },
  {
   "cell_type": "code",
   "execution_count": 2,
   "id": "663bc69e",
   "metadata": {},
   "outputs": [
    {
     "name": "stdout",
     "output_type": "stream",
     "text": [
      "Tensor a: tensor([0, 1, 2])\n",
      "Tensor b: tensor([[1.0000, 1.1000],\n",
      "        [1.2000, 1.3000]])\n",
      "Tensor c: tensor([[1., 1., 1.],\n",
      "        [1., 1., 1.]], dtype=torch.float64)\n"
     ]
    }
   ],
   "source": [
    "# tensor from a list\n",
    "a = torch.tensor([0, 1, 2])\n",
    "\n",
    "# tensor from a tuple of tuples\n",
    "b = ((1.0, 1.1), (1.2, 1.3))\n",
    "b = torch.tensor(b)\n",
    "\n",
    "# tensor from a numpy array\n",
    "c = np.ones([2, 3])\n",
    "c = torch.tensor(c)\n",
    "\n",
    "print(f\"Tensor a: {a}\")\n",
    "print(f\"Tensor b: {b}\")\n",
    "print(f\"Tensor c: {c}\")"
   ]
  },
  {
   "cell_type": "code",
   "execution_count": 3,
   "id": "c9aba9eb",
   "metadata": {},
   "outputs": [
    {
     "name": "stdout",
     "output_type": "stream",
     "text": [
      "Tensor a: tensor([[0.6462, 0.5635, 0.3833]])\n",
      "Tensor b: tensor([[ 0.4551,  0.4315, -0.8834,  0.9698],\n",
      "        [ 2.4535,  0.2601,  0.9483,  0.9577],\n",
      "        [ 0.8117, -0.6477,  0.4232,  0.0993]])\n",
      "Tensor c: tensor([[0., 0., 0.]])\n",
      "Tensor d: tensor([[0.5772, 0.8250, 0.3158]])\n"
     ]
    }
   ],
   "source": [
    "# uniform distribution\n",
    "a = torch.rand(1, 3)\n",
    "\n",
    "# normal distribution\n",
    "b = torch.randn(3, 4)\n",
    "\n",
    "# there are also constructors that allow us to construct\n",
    "# a tensor according to the above constructors, but with\n",
    "# dimensions equal to another tensor\n",
    "\n",
    "c = torch.zeros_like(a)\n",
    "d = torch.rand_like(c)\n",
    "\n",
    "print(f\"Tensor a: {a}\")\n",
    "print(f\"Tensor b: {b}\")\n",
    "print(f\"Tensor c: {c}\")\n",
    "print(f\"Tensor d: {d}\")"
   ]
  },
  {
   "cell_type": "code",
   "execution_count": 4,
   "id": "47c2204e",
   "metadata": {},
   "outputs": [
    {
     "data": {
      "text/plain": [
       "<torch._C.Generator at 0x116299070>"
      ]
     },
     "execution_count": 4,
     "metadata": {},
     "output_type": "execute_result"
    }
   ],
   "source": [
    "# setting random seed for all devices (both CPU and CUDA)\n",
    "torch.manual_seed(0)"
   ]
  },
  {
   "cell_type": "code",
   "execution_count": 5,
   "id": "13bc0092",
   "metadata": {},
   "outputs": [
    {
     "name": "stdout",
     "output_type": "stream",
     "text": [
      "Tensor a: tensor([0, 1, 2, 3, 4, 5, 6, 7, 8, 9])\n",
      "\n",
      "Numpy array b: [0 1 2 3 4 5 6 7 8 9]\n",
      "\n",
      "Tensor c: tensor([0.0000, 0.5000, 1.0000, 1.5000, 2.0000, 2.5000, 3.0000, 3.5000, 4.0000,\n",
      "        4.5000, 5.0000])\n",
      "\n",
      "Numpy array d: [0.  0.5 1.  1.5 2.  2.5 3.  3.5 4.  4.5 5. ]\n",
      "\n"
     ]
    }
   ],
   "source": [
    "# torch contains functions for generating tensors in a very similar manner to NumPy\n",
    "a = torch.arange(0, 10, step=1)\n",
    "b = np.arange(0, 10, step=1)\n",
    "\n",
    "c = torch.linspace(0, 5, steps=11)\n",
    "d = np.linspace(0, 5, num=11)\n",
    "\n",
    "print(f\"Tensor a: {a}\\n\")\n",
    "print(f\"Numpy array b: {b}\\n\")\n",
    "print(f\"Tensor c: {c}\\n\")\n",
    "print(f\"Numpy array d: {d}\\n\")"
   ]
  },
  {
   "cell_type": "markdown",
   "id": "b0cdc651",
   "metadata": {},
   "source": [
    "## Operations"
   ]
  },
  {
   "cell_type": "code",
   "execution_count": 7,
   "id": "adb48587",
   "metadata": {},
   "outputs": [
    {
     "name": "stdout",
     "output_type": "stream",
     "text": [
      "tensor([[1.4963, 1.7682, 1.0885],\n",
      "        [1.1320, 1.3074, 1.6341],\n",
      "        [1.4901, 1.8964, 1.4556],\n",
      "        [1.6323, 1.3489, 1.4017],\n",
      "        [1.0223, 1.1689, 1.2939]])\n",
      "tensor([[0.4963, 0.7682, 0.0885],\n",
      "        [0.1320, 0.3074, 0.6341],\n",
      "        [0.4901, 0.8964, 0.4556],\n",
      "        [0.6323, 0.3489, 0.4017],\n",
      "        [0.0223, 0.1689, 0.2939]])\n"
     ]
    }
   ],
   "source": [
    "# tensor-tensor operations\n",
    "a = torch.ones(5, 3)\n",
    "b = torch.rand(5, 3)\n",
    "c = torch.empty(5, 3)\n",
    "d = torch.empty(5, 3)\n",
    "\n",
    "# this only works if c and d already exist\n",
    "torch.add(a, b, out=c)\n",
    "# Pointwise Multiplication of a and b\n",
    "torch.multiply(a, b, out=d)\n",
    "print(c)\n",
    "print(d)"
   ]
  },
  {
   "cell_type": "code",
   "execution_count": 8,
   "id": "70dcf51f",
   "metadata": {},
   "outputs": [
    {
     "name": "stdout",
     "output_type": "stream",
     "text": [
      "tensor([[0.5185, 0.6977, 0.8000],\n",
      "        [0.1610, 0.2823, 0.6816],\n",
      "        [0.9152, 0.3971, 0.8742]])\n",
      "\n",
      "\n",
      "Sum of every element of x: 5.327557563781738\n",
      "Sum of the columns of x: tensor([1.5947, 1.3770, 2.3558])\n",
      "Sum of the rows of x: tensor([2.0162, 1.1249, 2.1864])\n",
      "\n",
      "\n",
      "Mean value of all elements of x 0.5919508337974548\n",
      "Mean values of the columns of x tensor([0.5316, 0.4590, 0.7853])\n",
      "Mean values of the rows of x tensor([0.6721, 0.3750, 0.7288])\n"
     ]
    }
   ],
   "source": [
    "# tensor methods are also the same as in NumPy\n",
    "x = torch.rand(3, 3)\n",
    "print(x)\n",
    "print(\"\\n\")\n",
    "# sum() - note the axis is the axis you move across when summing\n",
    "print(f\"Sum of every element of x: {x.sum()}\")\n",
    "print(f\"Sum of the columns of x: {x.sum(axis=0)}\")\n",
    "print(f\"Sum of the rows of x: {x.sum(axis=1)}\")\n",
    "print(\"\\n\")\n",
    "\n",
    "print(f\"Mean value of all elements of x {x.mean()}\")\n",
    "print(f\"Mean values of the columns of x {x.mean(axis=0)}\")\n",
    "print(f\"Mean values of the rows of x {x.mean(axis=1)}\")"
   ]
  },
  {
   "cell_type": "markdown",
   "id": "58e036e2",
   "metadata": {},
   "source": [
    "### Matrix Operations"
   ]
  },
  {
   "cell_type": "code",
   "execution_count": 11,
   "id": "afbb1e3c",
   "metadata": {},
   "outputs": [
    {
     "name": "stdout",
     "output_type": "stream",
     "text": [
      "tensor([[10, 14],\n",
      "        [19, 26]])\n",
      "tensor([[10, 14],\n",
      "        [19, 26]])\n"
     ]
    }
   ],
   "source": [
    "# '@' operator and torch.matmul() do matrix multiplication\n",
    "a = torch.tensor([[2,4],[5,7]])\n",
    "b = torch.tensor([[1,1],[2,3]])\n",
    "c = a@b\n",
    "d = torch.matmul(a,b)\n",
    "print(c)\n",
    "print(d)"
   ]
  },
  {
   "cell_type": "code",
   "execution_count": 12,
   "id": "cd0ff9dd",
   "metadata": {},
   "outputs": [
    {
     "name": "stdout",
     "output_type": "stream",
     "text": [
      "tensor(68)\n"
     ]
    }
   ],
   "source": [
    "# dot product\n",
    "a = torch.tensor([3,5,7])\n",
    "b = torch.tensor([2,4,6])\n",
    "c = torch.dot(a,b)\n",
    "print(c)"
   ]
  },
  {
   "cell_type": "markdown",
   "id": "7ec0a877",
   "metadata": {},
   "source": [
    "## Manipulating Tensors\n",
    "- indexing, reshaping, and concatenation work similar to NumPy as well"
   ]
  },
  {
   "cell_type": "code",
   "execution_count": 15,
   "id": "246e4032",
   "metadata": {},
   "outputs": [
    {
     "name": "stdout",
     "output_type": "stream",
     "text": [
      "tensor([0, 1, 2, 3, 4, 5, 6, 7, 8, 9])\n",
      "tensor(9)\n",
      "tensor([1, 2])\n",
      "tensor([0, 1, 2, 3, 4, 5, 6, 7])\n"
     ]
    }
   ],
   "source": [
    "# indexing\n",
    "x = torch.arange(0, 10)\n",
    "print(x)\n",
    "print(x[-1])\n",
    "print(x[1:3])\n",
    "print(x[:-2])"
   ]
  },
  {
   "cell_type": "code",
   "execution_count": 16,
   "id": "343bdae0",
   "metadata": {},
   "outputs": [
    {
     "name": "stdout",
     "output_type": "stream",
     "text": [
      "Original z: \n",
      " tensor([[ 0,  1],\n",
      "        [ 2,  3],\n",
      "        [ 4,  5],\n",
      "        [ 6,  7],\n",
      "        [ 8,  9],\n",
      "        [10, 11]])\n",
      "Flattened z: \n",
      " tensor([ 0,  1,  2,  3,  4,  5,  6,  7,  8,  9, 10, 11])\n",
      "Reshaped (3x4) z: \n",
      " tensor([[ 0,  1,  2,  3],\n",
      "        [ 4,  5,  6,  7],\n",
      "        [ 8,  9, 10, 11]])\n"
     ]
    }
   ],
   "source": [
    "# reshaping\n",
    "z = torch.arange(12).reshape(6, 2)\n",
    "print(f\"Original z: \\n {z}\")\n",
    "\n",
    "# 2D -> 1D\n",
    "z = z.flatten()\n",
    "print(f\"Flattened z: \\n {z}\")\n",
    "\n",
    "# and back to 2D\n",
    "z = z.reshape(3, 4)\n",
    "print(f\"Reshaped (3x4) z: \\n {z}\")"
   ]
  },
  {
   "cell_type": "code",
   "execution_count": 17,
   "id": "e1df66bc",
   "metadata": {},
   "outputs": [
    {
     "name": "stdout",
     "output_type": "stream",
     "text": [
      "Concatenated by rows: shape[6, 4] \n",
      " tensor([[ 0.,  1.,  2.,  3.],\n",
      "        [ 4.,  5.,  6.,  7.],\n",
      "        [ 8.,  9., 10., 11.],\n",
      "        [ 2.,  1.,  4.,  3.],\n",
      "        [ 1.,  2.,  3.,  4.],\n",
      "        [ 4.,  3.,  2.,  1.]])\n",
      "\n",
      " Concatenated by colums: shape[3, 8]  \n",
      " tensor([[ 0.,  1.,  2.,  3.,  2.,  1.,  4.,  3.],\n",
      "        [ 4.,  5.,  6.,  7.,  1.,  2.,  3.,  4.],\n",
      "        [ 8.,  9., 10., 11.,  4.,  3.,  2.,  1.]])\n"
     ]
    }
   ],
   "source": [
    "# concatenation\n",
    "x = torch.arange(12, dtype=torch.float32).reshape((3, 4))\n",
    "y = torch.tensor([[2.0, 1, 4, 3], [1, 2, 3, 4], [4, 3, 2, 1]])\n",
    "\n",
    "# by rows\n",
    "cat_rows = torch.cat((x, y), dim=0)\n",
    "\n",
    "# by columns\n",
    "cat_cols = torch.cat((x, y), dim=1)\n",
    "\n",
    "# printing outputs\n",
    "print('Concatenated by rows: shape{} \\n {}'.format(list(cat_rows.shape), cat_rows))\n",
    "print('\\n Concatenated by colums: shape{}  \\n {}'.format(list(cat_cols.shape), cat_cols))"
   ]
  },
  {
   "cell_type": "markdown",
   "id": "4b2af6cb",
   "metadata": {},
   "source": [
    "# Datasets and Dataloaders\n",
    "- PyTorch comes pre-packaged with a number of common datasets, which can come in handy when testing out new models"
   ]
  },
  {
   "cell_type": "markdown",
   "id": "b4d6132c",
   "metadata": {},
   "source": [
    "## Datasets"
   ]
  },
  {
   "cell_type": "code",
   "execution_count": 22,
   "id": "2fc0c691",
   "metadata": {},
   "outputs": [
    {
     "name": "stdout",
     "output_type": "stream",
     "text": [
      "Files already downloaded and verified\n",
      "Number of samples: 50000\n",
      "Class names: ['airplane', 'automobile', 'bird', 'cat', 'deer', 'dog', 'frog', 'horse', 'ship', 'truck']\n"
     ]
    }
   ],
   "source": [
    "# Download and load the images from the CIFAR10 dataset\n",
    "cifar10_data = datasets.CIFAR10(\n",
    "    root=\"data\",            # path where the images will be stored\n",
    "    download=True,          # all images should be downloaded\n",
    "    transform=ToTensor()    # transform the images to tensors\n",
    ")\n",
    "\n",
    "# Print the number of samples in the loaded dataset\n",
    "print(f\"Number of samples: {len(cifar10_data)}\")\n",
    "print(f\"Class names: {cifar10_data.classes}\")"
   ]
  },
  {
   "cell_type": "code",
   "execution_count": 23,
   "id": "8e76adb5",
   "metadata": {},
   "outputs": [
    {
     "name": "stdout",
     "output_type": "stream",
     "text": [
      "Label: horse\n",
      "Image size: torch.Size([3, 32, 32])\n"
     ]
    }
   ],
   "source": [
    "# Choose a random sample\n",
    "random.seed(2021)\n",
    "image, label = cifar10_data[random.randint(0, len(cifar10_data))]\n",
    "print(f\"Label: {cifar10_data.classes[label]}\")\n",
    "print(f\"Image size: {image.shape}\")"
   ]
  },
  {
   "cell_type": "code",
   "execution_count": 31,
   "id": "b8fe128b",
   "metadata": {},
   "outputs": [
    {
     "data": {
      "text/plain": [
       "torch.Size([32, 32, 3])"
      ]
     },
     "execution_count": 31,
     "metadata": {},
     "output_type": "execute_result"
    }
   ],
   "source": [
    "# remember to permute so that RGB is last dimension\n",
    "perm_image = image.permute(1,2,0)\n",
    "perm_image.shape"
   ]
  },
  {
   "cell_type": "code",
   "execution_count": 32,
   "id": "5e5a5eed",
   "metadata": {},
   "outputs": [
    {
     "data": {
      "image/png": "[encoded data removed]",
      "text/plain": [
       "<Figure size 648x432 with 1 Axes>"
      ]
     },
     "metadata": {
      "needs_background": "light"
     },
     "output_type": "display_data"
    }
   ],
   "source": [
    "# show image\n",
    "plt.figure(figsize=(9,6))\n",
    "plt.imshow(perm_image)\n",
    "plt.show()"
   ]
  },
  {
   "cell_type": "code",
   "execution_count": 33,
   "id": "886f69c6",
   "metadata": {},
   "outputs": [
    {
     "name": "stdout",
     "output_type": "stream",
     "text": [
      "Files already downloaded and verified\n",
      "Files already downloaded and verified\n"
     ]
    }
   ],
   "source": [
    "# You can specify if you want to load the training and testing data separately\n",
    "training_data = datasets.CIFAR10(\n",
    "    root=\"data\",\n",
    "    train=True,\n",
    "    download=True,\n",
    "    transform=ToTensor()\n",
    ")\n",
    "test_data = datasets.CIFAR10(\n",
    "    root=\"data\",\n",
    "    train=False,\n",
    "    download=True,\n",
    "    transform=ToTensor()\n",
    ")"
   ]
  },
  {
   "cell_type": "markdown",
   "id": "e5715b56",
   "metadata": {},
   "source": [
    "## Dataloaders"
   ]
  },
  {
   "cell_type": "code",
   "execution_count": 34,
   "id": "5e1b4077",
   "metadata": {},
   "outputs": [],
   "source": [
    "# Create dataloaders with\n",
    "train_dataloader = DataLoader(training_data, batch_size=64, shuffle=True)\n",
    "test_dataloader = DataLoader(test_data, batch_size=64, shuffle=True)"
   ]
  },
  {
   "cell_type": "code",
   "execution_count": 35,
   "id": "1e4324c3",
   "metadata": {},
   "outputs": [
    {
     "name": "stdout",
     "output_type": "stream",
     "text": [
      "Batch size: torch.Size([64, 3, 32, 32])\n"
     ]
    },
    {
     "data": {
      "image/png": "[encoded data removed]",
      "text/plain": [
       "<Figure size 432x288 with 1 Axes>"
      ]
     },
     "metadata": {
      "needs_background": "light"
     },
     "output_type": "display_data"
    }
   ],
   "source": [
    "# Load the next batch\n",
    "batch_images, batch_labels = next(iter(train_dataloader))\n",
    "print('Batch size:', batch_images.shape)\n",
    "\n",
    "# Display the first image from the batch\n",
    "plt.imshow(batch_images[0].permute(1, 2, 0))\n",
    "plt.show()"
   ]
  },
  {
   "cell_type": "markdown",
   "id": "a613cfe7",
   "metadata": {},
   "source": [
    "# Neural Networks"
   ]
  },
  {
   "cell_type": "code",
   "execution_count": 37,
   "id": "149c92ed",
   "metadata": {},
   "outputs": [],
   "source": [
    "# Create a dataset of 256 points with a little noise\n",
    "X, y = make_moons(256, noise=0.1)\n",
    "\n",
    "# Store the data as a Pandas data frame and save it to a CSV file\n",
    "df = pd.DataFrame(dict(x0=X[:,0], x1=X[:,1], y=y))\n",
    "df.to_csv('sample_data.csv')"
   ]
  },
  {
   "cell_type": "code",
   "execution_count": 38,
   "id": "22665992",
   "metadata": {},
   "outputs": [
    {
     "name": "stdout",
     "output_type": "stream",
     "text": [
      "Size X:(256, 2)\n",
      "Size y:(256,)\n"
     ]
    },
    {
     "data": {
      "image/png": "[encoded data removed]",
      "text/plain": [
       "<Figure size 432x288 with 1 Axes>"
      ]
     },
     "metadata": {
      "needs_background": "light"
     },
     "output_type": "display_data"
    }
   ],
   "source": [
    "# Load the data from the CSV file in a Pandas DataFrame\n",
    "data = pd.read_csv(\"sample_data.csv\")\n",
    "\n",
    "# Create a 2D numpy array from the x0 and x1 columns\n",
    "X_orig = data[[\"x0\", \"x1\"]].to_numpy()\n",
    "\n",
    "# Create a 1D numpy array from the y column\n",
    "y_orig = data[\"y\"].to_numpy()\n",
    "\n",
    "# Print the sizes of the generated 2D points X and the corresponding labels Y\n",
    "print(f\"Size X:{X_orig.shape}\")\n",
    "print(f\"Size y:{y_orig.shape}\")\n",
    "\n",
    "# Visualize the dataset. The color of the points is determined by the labels `y_orig`.\n",
    "plt.scatter(X_orig[:, 0], X_orig[:, 1], s=40, c=y_orig)\n",
    "plt.show()"
   ]
  },
  {
   "cell_type": "code",
   "execution_count": 42,
   "id": "8f548221",
   "metadata": {},
   "outputs": [
    {
     "name": "stdout",
     "output_type": "stream",
     "text": [
      "Size X:torch.Size([256, 2])\n",
      "Size y:torch.Size([256])\n"
     ]
    }
   ],
   "source": [
    "# Initialize the device variable\n",
    "DEVICE = \"cuda\" if torch.cuda.is_available() else \"cpu\"\n",
    "\n",
    "# Convert the 2D points to a float32 tensor\n",
    "X = torch.tensor(X_orig, dtype=torch.float32)\n",
    "\n",
    "# Upload the tensor to the device\n",
    "X = X.to(DEVICE)\n",
    "\n",
    "print(f\"Size X:{X.shape}\")\n",
    "\n",
    "# Convert the labels to a long interger tensor\n",
    "y = torch.from_numpy(y_orig).type(torch.LongTensor)\n",
    "# Upload the tensor to the device\n",
    "y = y.to(DEVICE)\n",
    "\n",
    "print(f\"Size y:{y.shape}\")"
   ]
  },
  {
   "cell_type": "code",
   "execution_count": 53,
   "id": "e84738e3",
   "metadata": {},
   "outputs": [],
   "source": [
    "# Inherit from nn.Module - the base class for neural network modules provided by Pytorch\n",
    "class NaiveNet(nn.Module):\n",
    "\n",
    "    # Define the structure of your network\n",
    "    def __init__(self):\n",
    "        super(NaiveNet, self).__init__()\n",
    "\n",
    "        # The network is defined as a sequence of operations\n",
    "        self.layers = nn.Sequential(\n",
    "            nn.Linear(2, 16),  # Transformation from the input to the hidden layer\n",
    "            nn.ReLU(),         # Activation function (ReLU) is a non-linearity which is widely used because it reduces computation. The function returns 0 if it receives any\n",
    "                               # negative input, but for any positive value x, it returns that value back.\n",
    "            nn.Linear(16, 2),  # Transformation from the hidden to the output layer\n",
    "        )\n",
    "\n",
    "    # Specify the computations performed on the data\n",
    "    def forward(self, x):\n",
    "        # Pass the data through the layers\n",
    "        return self.layers(x)\n",
    "\n",
    "    # Choose the most likely label predicted by the network\n",
    "    def predict(self, x):\n",
    "        # Pass the data through the networks\n",
    "        output = self.forward(x)\n",
    "        # Choose the label with the highest score\n",
    "        return torch.argmax(output, 1)\n",
    "\n",
    "    # Implement the train function given a training dataset X and corresponding labels y\n",
    "    def train(self, X, y):\n",
    "        # The Cross Entropy Loss is suitable for classification problems\n",
    "        loss_function = nn.CrossEntropyLoss()\n",
    "\n",
    "        # Create an optimizer (Stochastic Gradient Descent) that will be used to train the network\n",
    "        learning_rate = 1e-2\n",
    "        optimizer = torch.optim.SGD(model.parameters(), lr=learning_rate)\n",
    "\n",
    "        # Number of epochs\n",
    "        epochs = 15000\n",
    "\n",
    "        # List of losses for visualization\n",
    "        losses = []\n",
    "\n",
    "        for i in range(epochs):\n",
    "            # Pass the data through the network and compute the loss\n",
    "            # We'll use the whole dataset during the training instead of using batches\n",
    "            # in to order to keep the code simple for now.\n",
    "            y_logits = model.forward(X)\n",
    "            loss = loss_function(y_logits, y)\n",
    "\n",
    "            # Clear the previous gradients and compute the new ones\n",
    "            optimizer.zero_grad()\n",
    "            loss.backward()\n",
    "\n",
    "            # Adapt the weights of the network\n",
    "            optimizer.step()\n",
    "\n",
    "            # Store the loss\n",
    "            losses.append(loss.item())\n",
    "\n",
    "            # Print the results at every 1000th epoch\n",
    "            if i % 1000 == 0:\n",
    "                print(f\"Epoch {i} loss is {loss.item()}\")\n",
    "\n",
    "                plot_decision_boundary(model, X, y, DEVICE)\n",
    "                plt.savefig('frames/{:05d}.png'.format(i))\n",
    "\n",
    "        return losses"
   ]
  },
  {
   "cell_type": "code",
   "execution_count": 44,
   "id": "95f83f6c",
   "metadata": {},
   "outputs": [
    {
     "name": "stdout",
     "output_type": "stream",
     "text": [
      "NaiveNet(\n",
      "  (layers): Sequential(\n",
      "    (0): Linear(in_features=2, out_features=16, bias=True)\n",
      "    (1): ReLU()\n",
      "    (2): Linear(in_features=16, out_features=2, bias=True)\n",
      "  )\n",
      ")\n"
     ]
    }
   ],
   "source": [
    "# Create new NaiveNet and transfer it to the device\n",
    "model = NaiveNet().to(DEVICE)\n",
    "\n",
    "# Print the structure of the network\n",
    "print(model)"
   ]
  },
  {
   "cell_type": "code",
   "execution_count": 54,
   "id": "07595af6",
   "metadata": {},
   "outputs": [],
   "source": [
    "# helper function to plot the decision boundary\n",
    "def plot_decision_boundary(model, X, y, device):\n",
    "    # Transfer the data to the CPU\n",
    "    X = X.cpu().numpy()\n",
    "    y = y.cpu().numpy()\n",
    "\n",
    "    # Check if the frames folder exists and create it if needed\n",
    "    frames_path = Path(\"frames\")\n",
    "    if not frames_path.exists():\n",
    "        frames_path.mkdir()\n",
    "\n",
    "    # Set min and max values and give it some padding\n",
    "    x_min, x_max = X[:, 0].min() - .5, X[:, 0].max() + .5\n",
    "    y_min, y_max = X[:, 1].min() - .5, X[:, 1].max() + .5\n",
    "    h = 0.01\n",
    "\n",
    "    # Generate a grid of points with distance h between them\n",
    "    xx, yy = np.meshgrid(np.arange(x_min, x_max, h), np.arange(y_min, y_max, h))\n",
    "\n",
    "    # Predict the function value for the whole gid\n",
    "    grid_points = np.c_[xx.ravel(), yy.ravel()]\n",
    "    grid_points = torch.from_numpy(grid_points).type(torch.FloatTensor)\n",
    "    Z = model.predict(grid_points.to(device)).cpu().numpy()\n",
    "    Z = Z.reshape(xx.shape)\n",
    "\n",
    "    # Plot the contour and training examples\n",
    "    plt.contourf(xx, yy, Z, cmap=plt.cm.Spectral)\n",
    "    plt.scatter(X[:, 0], X[:, 1], c=y, cmap=plt.cm.binary)"
   ]
  },
  {
   "cell_type": "code",
   "execution_count": 55,
   "id": "11e00d3a",
   "metadata": {},
   "outputs": [
    {
     "name": "stdout",
     "output_type": "stream",
     "text": [
      "Epoch 0 loss is 0.7145092487335205\n",
      "Epoch 1000 loss is 0.25971734523773193\n",
      "Epoch 2000 loss is 0.2326008677482605\n",
      "Epoch 3000 loss is 0.22186516225337982\n",
      "Epoch 4000 loss is 0.21114741265773773\n",
      "Epoch 5000 loss is 0.19897589087486267\n",
      "Epoch 6000 loss is 0.18515929579734802\n",
      "Epoch 7000 loss is 0.16984832286834717\n",
      "Epoch 8000 loss is 0.15326645970344543\n",
      "Epoch 9000 loss is 0.13617847859859467\n",
      "Epoch 10000 loss is 0.11937729269266129\n",
      "Epoch 11000 loss is 0.10384736955165863\n",
      "Epoch 12000 loss is 0.09016038477420807\n",
      "Epoch 13000 loss is 0.07839932292699814\n",
      "Epoch 14000 loss is 0.06845318526029587\n"
     ]
    },
    {
     "data": {
      "image/png": "[encoded data removed]",
      "text/plain": [
       "<Figure size 432x288 with 1 Axes>"
      ]
     },
     "metadata": {
      "needs_background": "light"
     },
     "output_type": "display_data"
    }
   ],
   "source": [
    "# Create a new network instance a train it\n",
    "model = NaiveNet().to(DEVICE)\n",
    "losses = model.train(X, y)"
   ]
  },
  {
   "cell_type": "code",
   "execution_count": 52,
   "id": "624679c8",
   "metadata": {},
   "outputs": [
    {
     "data": {
      "image/png": "[encoded data removed]",
      "text/plain": [
       "<Figure size 432x288 with 1 Axes>"
      ]
     },
     "metadata": {
      "needs_background": "light"
     },
     "output_type": "display_data"
    }
   ],
   "source": [
    "# plot the loss during training\n",
    "plt.plot(np.linspace(1, len(losses), len(losses)), losses)\n",
    "plt.xlabel(\"Epoch\")\n",
    "plt.ylabel(\"Loss\")\n",
    "plt.show()"
   ]
  },
  {
   "cell_type": "code",
   "execution_count": null,
   "id": "cee5fc18",
   "metadata": {},
   "outputs": [],
   "source": []
  }
 ],
 "metadata": {
  "kernelspec": {
   "display_name": "nma",
   "language": "python",
   "name": "nma"
  },
  "language_info": {
   "codemirror_mode": {
    "name": "ipython",
    "version": 3
   },
   "file_extension": ".py",
   "mimetype": "text/x-python",
   "name": "python",
   "nbconvert_exporter": "python",
   "pygments_lexer": "ipython3",
   "version": "3.9.6"
  }
 },
 "nbformat": 4,
 "nbformat_minor": 5
}
